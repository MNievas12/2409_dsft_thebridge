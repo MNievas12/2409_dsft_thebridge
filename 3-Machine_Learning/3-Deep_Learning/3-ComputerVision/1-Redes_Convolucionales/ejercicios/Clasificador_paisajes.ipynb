{
 "cells": [
  {
   "attachments": {},
   "cell_type": "markdown",
   "metadata": {},
   "source": [
    "# Clasificador paisajes\n",
    "Para este ejercicio vas a crear un clasificador automático de paisajes. Los datos los encontrarás en el Classroom como `seg_train.zip` y `seg_test.zip`. Se pide:\n",
    "1. Cargar las imágenes. Mira cómo están almacenados los datos. Tendrás que recorrer las carpetas, cargar las imágenes en memoria y etiquetarlas con los nombres de las carpetas. Realiza un reshape de cada imagen (comienza el ejercicio con 32x32, para ir más rápido en las ejecuciones).\n",
    "2. Investiga las imágenes, comprueba con algunas muestras que has cargado bien los datos.\n",
    "3. Normaliza\n",
    "4. Diseña la arquitectura de la red. Recuerda que es un algoritmo de clasificación. Ojo con las dimensiones de la entrada\n",
    "5. Reserva un 20% de los datos del entrenamiento para validar.\n",
    "6. Representa el objeto history\n",
    "7. Evalua el modelo con los datos de test\n",
    "8. Representa algunos de los paisajes donde el modelo comete errores\n",
    "9. Crea una matriz de confusión con los errores del modelo\n",
    "\n",
    "**NOTA apartado 1**: para el apartado 1 tendras que recorre las carpetas/imagenes con `os.listdir()`, e ir cargando todas las imagenes como arrays de numpy\n",
    "\n",
    "**NOTA apartado 4**: empieza con un par de capas Conv2D + MaxPooling2D con activación relu y después la fully connected layer. on softmax como ultima capa"
   ]
  },
  {
   "cell_type": "code",
   "execution_count": 3,
   "metadata": {},
   "outputs": [
    {
     "name": "stdout",
     "output_type": "stream",
     "text": [
      "WARNING:tensorflow:From c:\\Users\\Miguel Angel\\AppData\\Local\\Programs\\Python\\Python311\\Lib\\site-packages\\keras\\src\\losses.py:2976: The name tf.losses.sparse_softmax_cross_entropy is deprecated. Please use tf.compat.v1.losses.sparse_softmax_cross_entropy instead.\n",
      "\n"
     ]
    }
   ],
   "source": [
    "import numpy as np\n",
    "import pandas as pd\n",
    "import matplotlib.pyplot as plt\n",
    "import seaborn as sns\n",
    "\n",
    "import os\n",
    "import cv2\n",
    "from skimage.io import imread\n",
    "\n",
    "from tensorflow import keras\n",
    "from sklearn.metrics import confusion_matrix"
   ]
  },
  {
   "cell_type": "code",
   "execution_count": 15,
   "metadata": {},
   "outputs": [
    {
     "data": {
      "text/plain": [
       "{'buildings': 0,\n",
       " 'forest': 1,\n",
       " 'glacier': 2,\n",
       " 'mountain': 3,\n",
       " 'sea': 4,\n",
       " 'street': 5}"
      ]
     },
     "execution_count": 15,
     "metadata": {},
     "output_type": "execute_result"
    }
   ],
   "source": [
    "class_names = ['buildings', 'forest', 'glacier', 'mountain', 'sea', 'street']\n",
    "class_names_label = {class_name:i for i, class_name in enumerate(class_names)}\n",
    "class_names_label"
   ]
  },
  {
   "cell_type": "code",
   "execution_count": 5,
   "metadata": {},
   "outputs": [
    {
     "data": {
      "text/plain": [
       "'d:\\\\Bootcamps_DS\\\\24_09_Bootcamp_DS\\\\2409_dsft_thebridge\\\\3-Machine_Learning\\\\3-Deep_Learning\\\\3-ComputerVision\\\\1-Redes_Convolucionales\\\\ejercicios'"
      ]
     },
     "execution_count": 5,
     "metadata": {},
     "output_type": "execute_result"
    }
   ],
   "source": [
    "os.getcwd()"
   ]
  },
  {
   "cell_type": "code",
   "execution_count": 7,
   "metadata": {},
   "outputs": [
    {
     "data": {
      "text/plain": [
       "['buildings', 'forest', 'glacier', 'mountain', 'sea', 'street']"
      ]
     },
     "execution_count": 7,
     "metadata": {},
     "output_type": "execute_result"
    }
   ],
   "source": [
    "os.listdir(os.getcwd() + \"\\\\data\\\\seg_train\")"
   ]
  },
  {
   "cell_type": "code",
   "execution_count": 8,
   "metadata": {},
   "outputs": [],
   "source": [
    "IMAGE_SIZE = (32,32)\n",
    "TRAIN_PATH = os.getcwd() + \"\\\\data\\\\seg_train\"\n",
    "TEST_PATH = os.getcwd() + \"\\\\data\\\\seg_test\""
   ]
  },
  {
   "cell_type": "code",
   "execution_count": 16,
   "metadata": {},
   "outputs": [],
   "source": [
    "def read_data(path, im_size, class_names_label):\n",
    "    X = []\n",
    "    y = []\n",
    "\n",
    "    for folder in os.listdir(path):\n",
    "        print(\"Recorriendo \", folder)\n",
    "        label = class_names_label[folder]\n",
    "        folder_path = os.path.join(path, folder)\n",
    "        for file in os.listdir(folder_path):\n",
    "            image_path = os.path.join(folder_path, file)\n",
    "            try:\n",
    "                image = imread(image_path)\n",
    "                smallimage = cv2.resize(image, im_size)\n",
    "                X.append(smallimage)\n",
    "                y.append(label)\n",
    "            except Exception as e:\n",
    "                print(\"Error en la lecura\", image_path)\n",
    "                print(e)\n",
    "    return np.array(X), np.array(y)\n"
   ]
  },
  {
   "cell_type": "code",
   "execution_count": 17,
   "metadata": {},
   "outputs": [
    {
     "name": "stdout",
     "output_type": "stream",
     "text": [
      "Recorriendo  buildings\n",
      "Recorriendo  forest\n",
      "Recorriendo  glacier\n",
      "Recorriendo  mountain\n",
      "Recorriendo  sea\n",
      "Recorriendo  street\n",
      "Recorriendo  buildings\n",
      "Recorriendo  forest\n",
      "Recorriendo  glacier\n",
      "Recorriendo  mountain\n",
      "Recorriendo  sea\n",
      "Recorriendo  street\n"
     ]
    }
   ],
   "source": [
    "X_train, y_train = read_data(TRAIN_PATH, IMAGE_SIZE, class_names_label)\n",
    "X_test, y_test = read_data(TEST_PATH, IMAGE_SIZE, class_names_label)"
   ]
  },
  {
   "cell_type": "code",
   "execution_count": 18,
   "metadata": {},
   "outputs": [
    {
     "name": "stdout",
     "output_type": "stream",
     "text": [
      "(14034, 32, 32, 3)\n",
      "(3000, 32, 32, 3)\n",
      "(14034,)\n",
      "(3000,)\n"
     ]
    }
   ],
   "source": [
    "print(X_train.shape)\n",
    "print(X_test.shape)\n",
    "print(y_train.shape)\n",
    "print(y_test.shape)"
   ]
  },
  {
   "cell_type": "code",
   "execution_count": 19,
   "metadata": {},
   "outputs": [
    {
     "data": {
      "text/plain": [
       "3    2512\n",
       "2    2404\n",
       "5    2382\n",
       "4    2274\n",
       "1    2271\n",
       "0    2191\n",
       "dtype: int64"
      ]
     },
     "execution_count": 19,
     "metadata": {},
     "output_type": "execute_result"
    }
   ],
   "source": [
    "pd.Series(y_train).value_counts()"
   ]
  },
  {
   "cell_type": "code",
   "execution_count": 20,
   "metadata": {},
   "outputs": [
    {
     "data": {
      "text/plain": [
       "2    553\n",
       "3    525\n",
       "4    510\n",
       "5    501\n",
       "1    474\n",
       "0    437\n",
       "dtype: int64"
      ]
     },
     "execution_count": 20,
     "metadata": {},
     "output_type": "execute_result"
    }
   ],
   "source": [
    "pd.Series(y_test).value_counts()"
   ]
  },
  {
   "cell_type": "code",
   "execution_count": 22,
   "metadata": {},
   "outputs": [
    {
     "data": {
      "text/plain": [
       "array([0, 0, 0, 0, 0, 0, 0, 0, 0, 0, 0, 0, 0, 0, 0, 0, 0, 0, 0, 0, 0, 0,\n",
       "       0, 0, 0, 0, 0, 0, 0, 0, 0, 0, 0, 0, 0, 0, 0, 0, 0, 0, 0, 0, 0, 0,\n",
       "       0, 0, 0, 0, 0, 0, 0, 0, 0, 0, 0, 0, 0, 0, 0, 0, 0, 0, 0, 0, 0, 0,\n",
       "       0, 0, 0, 0, 0, 0, 0, 0, 0, 0, 0, 0, 0, 0, 0, 0, 0, 0, 0, 0, 0, 0,\n",
       "       0, 0, 0, 0, 0, 0, 0, 0, 0, 0, 0, 0])"
      ]
     },
     "execution_count": 22,
     "metadata": {},
     "output_type": "execute_result"
    }
   ],
   "source": [
    "y_train[:100]"
   ]
  },
  {
   "cell_type": "code",
   "execution_count": 23,
   "metadata": {},
   "outputs": [],
   "source": [
    "from sklearn.utils import shuffle\n",
    "\n",
    "X_train, y_train = shuffle(X_train, y_train, random_state=42)\n",
    "X_test, y_test = shuffle(X_test, y_test, random_state=42)"
   ]
  },
  {
   "cell_type": "code",
   "execution_count": 24,
   "metadata": {},
   "outputs": [
    {
     "data": {
      "text/plain": [
       "array([3, 2, 3, 0, 5, 2, 2, 4, 0, 5, 4, 0, 1, 3, 5, 1, 2, 1, 5, 5, 0, 0,\n",
       "       2, 4, 2, 5, 5, 2, 0, 2, 2, 3, 1, 5, 0, 1, 4, 0, 0, 2, 0, 0, 0, 1,\n",
       "       3, 3, 4, 0, 5, 3, 2, 4, 0, 4, 0, 5, 2, 1, 5, 2, 1, 1, 1, 0, 0, 2,\n",
       "       2, 3, 3, 1, 3, 5, 5, 3, 0, 1, 4, 5, 4, 4, 3, 3, 1, 3, 4, 0, 5, 2,\n",
       "       4, 5, 0, 2, 4, 2, 3, 0, 5, 4, 0, 3])"
      ]
     },
     "execution_count": 24,
     "metadata": {},
     "output_type": "execute_result"
    }
   ],
   "source": [
    "y_test[:100]"
   ]
  },
  {
   "cell_type": "code",
   "execution_count": 29,
   "metadata": {},
   "outputs": [
    {
     "name": "stdout",
     "output_type": "stream",
     "text": [
      "forest\n"
     ]
    },
    {
     "data": {
      "text/plain": [
       "<matplotlib.image.AxesImage at 0x2943c398e50>"
      ]
     },
     "execution_count": 29,
     "metadata": {},
     "output_type": "execute_result"
    },
    {
     "data": {
      "image/png": "[encoded data removed]",
      "text/plain": [
       "<Figure size 640x480 with 1 Axes>"
      ]
     },
     "metadata": {},
     "output_type": "display_data"
    }
   ],
   "source": [
    "index = np.random.randint(X_train.shape[0])\n",
    "print(class_names[y_train[index]])\n",
    "plt.imshow(X_train[index])"
   ]
  },
  {
   "cell_type": "code",
   "execution_count": 30,
   "metadata": {},
   "outputs": [
    {
     "data": {
      "text/plain": [
       "array([[[[225, 225, 225],\n",
       "         [221, 223, 222],\n",
       "         [221, 223, 222],\n",
       "         ...,\n",
       "         [237, 237, 237],\n",
       "         [238, 238, 238],\n",
       "         [240, 240, 240]],\n",
       "\n",
       "        [[230, 230, 230],\n",
       "         [227, 227, 227],\n",
       "         [232, 232, 232],\n",
       "         ...,\n",
       "         [244, 244, 244],\n",
       "         [244, 244, 244],\n",
       "         [246, 246, 246]],\n",
       "\n",
       "        [[ 55,  55,  55],\n",
       "         [223, 223, 223],\n",
       "         [ 88,  87,  88],\n",
       "         ...,\n",
       "         [245, 245, 245],\n",
       "         [246, 246, 246],\n",
       "         [246, 246, 246]],\n",
       "\n",
       "        ...,\n",
       "\n",
       "        [[114, 112, 111],\n",
       "         [ 97,  96,  94],\n",
       "         [125, 123, 124],\n",
       "         ...,\n",
       "         [ 90,  89,  87],\n",
       "         [ 88,  87,  85],\n",
       "         [ 92,  91,  89]],\n",
       "\n",
       "        [[153, 152, 150],\n",
       "         [113, 112, 110],\n",
       "         [123, 121, 122],\n",
       "         ...,\n",
       "         [ 83,  82,  79],\n",
       "         [ 68,  67,  65],\n",
       "         [ 80,  79,  77]],\n",
       "\n",
       "        [[131, 130, 128],\n",
       "         [133, 132, 130],\n",
       "         [128, 126, 125],\n",
       "         ...,\n",
       "         [128, 127, 125],\n",
       "         [138, 138, 136],\n",
       "         [130, 128, 129]]],\n",
       "\n",
       "\n",
       "       [[[ 92, 157, 223],\n",
       "         [ 93, 158, 224],\n",
       "         [ 93, 158, 224],\n",
       "         ...,\n",
       "         [147, 143, 157],\n",
       "         [163,  93,  44],\n",
       "         [201, 162,  82]],\n",
       "\n",
       "        [[ 94, 162, 225],\n",
       "         [ 94, 162, 225],\n",
       "         [ 94, 162, 225],\n",
       "         ...,\n",
       "         [150, 150, 167],\n",
       "         [176, 116,  69],\n",
       "         [198, 149,  58]],\n",
       "\n",
       "        [[ 99, 164, 226],\n",
       "         [100, 166, 226],\n",
       "         [ 97, 165, 226],\n",
       "         ...,\n",
       "         [169, 173, 204],\n",
       "         [137,  60,  35],\n",
       "         [171, 109,  44]],\n",
       "\n",
       "        ...,\n",
       "\n",
       "        [[ 98,  99, 103],\n",
       "         [ 97,  98, 101],\n",
       "         [107, 108, 110],\n",
       "         ...,\n",
       "         [112,  96,  88],\n",
       "         [114,  99,  91],\n",
       "         [111,  97,  84]],\n",
       "\n",
       "        [[ 79,  84,  88],\n",
       "         [102, 106, 109],\n",
       "         [113, 114, 117],\n",
       "         ...,\n",
       "         [111,  96,  86],\n",
       "         [106,  92,  82],\n",
       "         [111,  94,  84]],\n",
       "\n",
       "        [[108, 112, 113],\n",
       "         [109, 113, 114],\n",
       "         [110, 111, 112],\n",
       "         ...,\n",
       "         [111,  95,  87],\n",
       "         [103,  89,  78],\n",
       "         [119, 105,  96]]],\n",
       "\n",
       "\n",
       "       [[[185, 126, 110],\n",
       "         [187, 129, 111],\n",
       "         [221, 202, 196],\n",
       "         ...,\n",
       "         [171, 221, 254],\n",
       "         [172, 221, 254],\n",
       "         [175, 221, 254]],\n",
       "\n",
       "        [[185, 124, 119],\n",
       "         [189, 131, 119],\n",
       "         [203, 159, 147],\n",
       "         ...,\n",
       "         [177, 224, 254],\n",
       "         [178, 225, 254],\n",
       "         [180, 226, 252]],\n",
       "\n",
       "        [[184, 128, 115],\n",
       "         [186, 127, 113],\n",
       "         [175, 133, 126],\n",
       "         ...,\n",
       "         [183, 229, 253],\n",
       "         [185, 231, 255],\n",
       "         [184, 231, 254]],\n",
       "\n",
       "        ...,\n",
       "\n",
       "        [[108,  78,  75],\n",
       "         [103,  73,  71],\n",
       "         [104,  74,  72],\n",
       "         ...,\n",
       "         [151, 121, 122],\n",
       "         [159, 129, 130],\n",
       "         [168, 145, 139]],\n",
       "\n",
       "        [[101,  71,  69],\n",
       "         [105,  75,  73],\n",
       "         [106,  76,  76],\n",
       "         ...,\n",
       "         [137, 113, 112],\n",
       "         [142, 117, 117],\n",
       "         [139, 119, 118]],\n",
       "\n",
       "        [[108,  78,  76],\n",
       "         [113,  81,  80],\n",
       "         [111,  78,  77],\n",
       "         ...,\n",
       "         [140, 115, 111],\n",
       "         [143, 117, 116],\n",
       "         [141, 116, 115]]],\n",
       "\n",
       "\n",
       "       ...,\n",
       "\n",
       "\n",
       "       [[[157, 165, 184],\n",
       "         [152, 163, 181],\n",
       "         [160, 168, 189],\n",
       "         ...,\n",
       "         [179, 191, 207],\n",
       "         [180, 192, 208],\n",
       "         [182, 194, 210]],\n",
       "\n",
       "        [[163, 173, 191],\n",
       "         [159, 170, 188],\n",
       "         [158, 166, 185],\n",
       "         ...,\n",
       "         [186, 198, 214],\n",
       "         [183, 195, 211],\n",
       "         [182, 195, 211]],\n",
       "\n",
       "        [[164, 176, 192],\n",
       "         [164, 176, 192],\n",
       "         [163, 174, 192],\n",
       "         ...,\n",
       "         [189, 201, 217],\n",
       "         [186, 198, 214],\n",
       "         [184, 196, 212]],\n",
       "\n",
       "        ...,\n",
       "\n",
       "        [[ 29,  71,  90],\n",
       "         [ 68, 107, 125],\n",
       "         [ 95, 129, 141],\n",
       "         ...,\n",
       "         [117, 165, 189],\n",
       "         [159, 193, 202],\n",
       "         [ 92, 134, 151]],\n",
       "\n",
       "        [[ 89, 126, 143],\n",
       "         [ 64, 109, 127],\n",
       "         [ 89, 130, 152],\n",
       "         ...,\n",
       "         [108, 155, 177],\n",
       "         [ 94, 148, 173],\n",
       "         [134, 173, 191]],\n",
       "\n",
       "        [[167, 191, 199],\n",
       "         [ 92, 130, 148],\n",
       "         [ 76, 120, 138],\n",
       "         ...,\n",
       "         [ 92, 137, 164],\n",
       "         [102, 149, 173],\n",
       "         [ 93, 139, 162]]],\n",
       "\n",
       "\n",
       "       [[[ 98, 147, 203],\n",
       "         [ 99, 146, 202],\n",
       "         [ 98, 145, 201],\n",
       "         ...,\n",
       "         [ 65, 116, 179],\n",
       "         [ 65, 116, 179],\n",
       "         [ 64, 115, 178]],\n",
       "\n",
       "        [[100, 149, 205],\n",
       "         [100, 147, 203],\n",
       "         [ 99, 146, 202],\n",
       "         ...,\n",
       "         [ 67, 118, 181],\n",
       "         [ 67, 118, 181],\n",
       "         [ 63, 117, 179]],\n",
       "\n",
       "        [[103, 150, 206],\n",
       "         [102, 149, 205],\n",
       "         [100, 147, 205],\n",
       "         ...,\n",
       "         [ 68, 119, 184],\n",
       "         [ 69, 120, 185],\n",
       "         [ 66, 120, 182]],\n",
       "\n",
       "        ...,\n",
       "\n",
       "        [[ 64,  73,  71],\n",
       "         [ 53,  63,  59],\n",
       "         [ 71,  81,  83],\n",
       "         ...,\n",
       "         [ 97, 109, 119],\n",
       "         [ 69,  72,  86],\n",
       "         [144, 141, 148]],\n",
       "\n",
       "        [[ 51,  61,  57],\n",
       "         [ 48,  52,  44],\n",
       "         [ 72,  81,  71],\n",
       "         ...,\n",
       "         [ 46,  50,  61],\n",
       "         [ 53,  54,  69],\n",
       "         [ 56,  58,  64]],\n",
       "\n",
       "        [[ 90, 103,  33],\n",
       "         [ 96, 104,  39],\n",
       "         [ 99, 108,  45],\n",
       "         ...,\n",
       "         [ 44,  53,  62],\n",
       "         [ 18,  17,  19],\n",
       "         [ 27,  26,  18]]],\n",
       "\n",
       "\n",
       "       [[[131, 161, 199],\n",
       "         [133, 161, 200],\n",
       "         [133, 161, 200],\n",
       "         ...,\n",
       "         [157, 177, 204],\n",
       "         [149, 172, 204],\n",
       "         [145, 170, 201]],\n",
       "\n",
       "        [[131, 161, 199],\n",
       "         [133, 161, 200],\n",
       "         [133, 161, 200],\n",
       "         ...,\n",
       "         [157, 176, 204],\n",
       "         [160, 179, 210],\n",
       "         [161, 179, 208]],\n",
       "\n",
       "        [[131, 161, 199],\n",
       "         [133, 161, 200],\n",
       "         [134, 162, 201],\n",
       "         ...,\n",
       "         [168, 184, 207],\n",
       "         [157, 174, 200],\n",
       "         [151, 172, 203]],\n",
       "\n",
       "        ...,\n",
       "\n",
       "        [[104, 122, 157],\n",
       "         [104, 123, 155],\n",
       "         [117, 135, 164],\n",
       "         ...,\n",
       "         [139, 148, 170],\n",
       "         [130, 136, 163],\n",
       "         [109, 120, 151]],\n",
       "\n",
       "        [[103, 119, 162],\n",
       "         [102, 120, 159],\n",
       "         [109, 125, 163],\n",
       "         ...,\n",
       "         [118, 133, 162],\n",
       "         [119, 126, 159],\n",
       "         [113, 121, 157]],\n",
       "\n",
       "        [[ 91, 105, 144],\n",
       "         [ 98, 111, 150],\n",
       "         [ 98, 112, 150],\n",
       "         ...,\n",
       "         [113, 128, 157],\n",
       "         [114, 129, 158],\n",
       "         [113, 127, 157]]]], dtype=uint8)"
      ]
     },
     "execution_count": 30,
     "metadata": {},
     "output_type": "execute_result"
    }
   ],
   "source": [
    "X_train"
   ]
  },
  {
   "cell_type": "code",
   "execution_count": 32,
   "metadata": {},
   "outputs": [],
   "source": [
    "X_train = X_train/255\n",
    "X_test = X_test/255"
   ]
  },
  {
   "cell_type": "code",
   "execution_count": 33,
   "metadata": {},
   "outputs": [
    {
     "name": "stdout",
     "output_type": "stream",
     "text": [
      "0.0\n",
      "1.0\n"
     ]
    }
   ],
   "source": [
    "print(X_train.min())\n",
    "print(X_train.max())"
   ]
  },
  {
   "cell_type": "code",
   "execution_count": 35,
   "metadata": {},
   "outputs": [
    {
     "data": {
      "text/plain": [
       "(14034, 32, 32, 3)"
      ]
     },
     "execution_count": 35,
     "metadata": {},
     "output_type": "execute_result"
    }
   ],
   "source": [
    "X_train.shape"
   ]
  },
  {
   "cell_type": "code",
   "execution_count": 50,
   "metadata": {},
   "outputs": [],
   "source": [
    "model = keras.Sequential([\n",
    "    keras.layers.Conv2D(64, (3,3), input_shape=(32,32,3)),\n",
    "    keras.layers.MaxPooling2D(2,2),\n",
    "    keras.layers.Conv2D(32, (3,3)),\n",
    "    # keras.layers.MaxPooling2D(2,2),\n",
    "    # keras.layers.Conv2D(16, (3,3)),\n",
    "    keras.layers.MaxPooling2D(2,2),\n",
    "    keras.layers.Flatten(),\n",
    "    keras.layers.Dense(32),\n",
    "    keras.layers.Dense(16),\n",
    "    keras.layers.Dense(6, activation=\"softmax\")\n",
    "])"
   ]
  },
  {
   "cell_type": "code",
   "execution_count": 51,
   "metadata": {},
   "outputs": [
    {
     "name": "stdout",
     "output_type": "stream",
     "text": [
      "Model: \"sequential_2\"\n",
      "_________________________________________________________________\n",
      " Layer (type)                Output Shape              Param #   \n",
      "=================================================================\n",
      " conv2d_6 (Conv2D)           (None, 30, 30, 64)        1792      \n",
      "                                                                 \n",
      " max_pooling2d_5 (MaxPoolin  (None, 15, 15, 64)        0         \n",
      " g2D)                                                            \n",
      "                                                                 \n",
      " conv2d_7 (Conv2D)           (None, 13, 13, 32)        18464     \n",
      "                                                                 \n",
      " max_pooling2d_6 (MaxPoolin  (None, 6, 6, 32)          0         \n",
      " g2D)                                                            \n",
      "                                                                 \n",
      " flatten_2 (Flatten)         (None, 1152)              0         \n",
      "                                                                 \n",
      " dense_6 (Dense)             (None, 32)                36896     \n",
      "                                                                 \n",
      " dense_7 (Dense)             (None, 16)                528       \n",
      "                                                                 \n",
      " dense_8 (Dense)             (None, 6)                 102       \n",
      "                                                                 \n",
      "=================================================================\n",
      "Total params: 57782 (225.71 KB)\n",
      "Trainable params: 57782 (225.71 KB)\n",
      "Non-trainable params: 0 (0.00 Byte)\n",
      "_________________________________________________________________\n"
     ]
    }
   ],
   "source": [
    "model.summary()"
   ]
  },
  {
   "cell_type": "code",
   "execution_count": 52,
   "metadata": {},
   "outputs": [
    {
     "data": {
      "text/plain": [
       "1792"
      ]
     },
     "execution_count": 52,
     "metadata": {},
     "output_type": "execute_result"
    }
   ],
   "source": [
    "64*(3*3)*3 + 64"
   ]
  },
  {
   "cell_type": "code",
   "execution_count": 53,
   "metadata": {},
   "outputs": [
    {
     "data": {
      "text/plain": [
       "18464"
      ]
     },
     "execution_count": 53,
     "metadata": {},
     "output_type": "execute_result"
    }
   ],
   "source": [
    "32*(3*3)*64 + 32"
   ]
  },
  {
   "cell_type": "code",
   "execution_count": 54,
   "metadata": {},
   "outputs": [
    {
     "data": {
      "text/plain": [
       "36896"
      ]
     },
     "execution_count": 54,
     "metadata": {},
     "output_type": "execute_result"
    }
   ],
   "source": [
    "6*6*32 * 32 + 32"
   ]
  },
  {
   "cell_type": "code",
   "execution_count": 48,
   "metadata": {},
   "outputs": [
    {
     "data": {
      "text/plain": [
       "528"
      ]
     },
     "execution_count": 48,
     "metadata": {},
     "output_type": "execute_result"
    }
   ],
   "source": [
    "32*16 + 16"
   ]
  },
  {
   "cell_type": "code",
   "execution_count": 49,
   "metadata": {},
   "outputs": [
    {
     "data": {
      "text/plain": [
       "102"
      ]
     },
     "execution_count": 49,
     "metadata": {},
     "output_type": "execute_result"
    }
   ],
   "source": [
    "16*6 + 6"
   ]
  },
  {
   "cell_type": "code",
   "execution_count": 57,
   "metadata": {},
   "outputs": [],
   "source": [
    "model.compile(optimizer=\"adam\",\n",
    "              loss= \"sparse_categorical_crossentropy\",\n",
    "              metrics=['accuracy'])"
   ]
  },
  {
   "cell_type": "code",
   "execution_count": 62,
   "metadata": {},
   "outputs": [
    {
     "data": {
      "text/plain": [
       "98.6765625"
      ]
     },
     "execution_count": 62,
     "metadata": {},
     "output_type": "execute_result"
    }
   ],
   "source": [
    "14034 * 0.9 / 128"
   ]
  },
  {
   "cell_type": "code",
   "execution_count": 63,
   "metadata": {},
   "outputs": [
    {
     "name": "stdout",
     "output_type": "stream",
     "text": [
      "Epoch 1/20\n",
      "WARNING:tensorflow:From c:\\Users\\Miguel Angel\\AppData\\Local\\Programs\\Python\\Python311\\Lib\\site-packages\\keras\\src\\utils\\tf_utils.py:492: The name tf.ragged.RaggedTensorValue is deprecated. Please use tf.compat.v1.ragged.RaggedTensorValue instead.\n",
      "\n",
      "WARNING:tensorflow:From c:\\Users\\Miguel Angel\\AppData\\Local\\Programs\\Python\\Python311\\Lib\\site-packages\\keras\\src\\engine\\base_layer_utils.py:384: The name tf.executing_eagerly_outside_functions is deprecated. Please use tf.compat.v1.executing_eagerly_outside_functions instead.\n",
      "\n",
      "99/99 [==============================] - 9s 75ms/step - loss: 1.2789 - accuracy: 0.4918 - val_loss: 1.0274 - val_accuracy: 0.6140\n",
      "Epoch 2/20\n",
      "99/99 [==============================] - 7s 69ms/step - loss: 0.9781 - accuracy: 0.6349 - val_loss: 0.9463 - val_accuracy: 0.6510\n",
      "Epoch 3/20\n",
      "99/99 [==============================] - 7s 67ms/step - loss: 0.8885 - accuracy: 0.6709 - val_loss: 0.8449 - val_accuracy: 0.6816\n",
      "Epoch 4/20\n",
      "99/99 [==============================] - 7s 70ms/step - loss: 0.8195 - accuracy: 0.7010 - val_loss: 0.8124 - val_accuracy: 0.7051\n",
      "Epoch 5/20\n",
      "99/99 [==============================] - 7s 67ms/step - loss: 0.7859 - accuracy: 0.7100 - val_loss: 0.7589 - val_accuracy: 0.7258\n",
      "Epoch 6/20\n",
      "99/99 [==============================] - 7s 68ms/step - loss: 0.7375 - accuracy: 0.7304 - val_loss: 0.7413 - val_accuracy: 0.7393\n",
      "Epoch 7/20\n",
      "99/99 [==============================] - 7s 72ms/step - loss: 0.7230 - accuracy: 0.7392 - val_loss: 0.7354 - val_accuracy: 0.7415\n",
      "Epoch 8/20\n",
      "99/99 [==============================] - 7s 69ms/step - loss: 0.6811 - accuracy: 0.7568 - val_loss: 0.7810 - val_accuracy: 0.7130\n",
      "Epoch 9/20\n",
      "99/99 [==============================] - 8s 86ms/step - loss: 0.6796 - accuracy: 0.7527 - val_loss: 0.9159 - val_accuracy: 0.6795\n",
      "Epoch 10/20\n",
      "99/99 [==============================] - 8s 82ms/step - loss: 0.6725 - accuracy: 0.7564 - val_loss: 0.7444 - val_accuracy: 0.7472\n",
      "Epoch 11/20\n",
      "99/99 [==============================] - 8s 84ms/step - loss: 0.6265 - accuracy: 0.7747 - val_loss: 0.7676 - val_accuracy: 0.7350\n",
      "Epoch 12/20\n",
      "99/99 [==============================] - 8s 83ms/step - loss: 0.6074 - accuracy: 0.7836 - val_loss: 0.7279 - val_accuracy: 0.7400\n",
      "Epoch 13/20\n",
      "99/99 [==============================] - 8s 80ms/step - loss: 0.5880 - accuracy: 0.7884 - val_loss: 0.7758 - val_accuracy: 0.7336\n",
      "Epoch 14/20\n",
      "99/99 [==============================] - 8s 83ms/step - loss: 0.5736 - accuracy: 0.7946 - val_loss: 0.8231 - val_accuracy: 0.7094\n",
      "Epoch 15/20\n",
      "99/99 [==============================] - 8s 85ms/step - loss: 0.5498 - accuracy: 0.8031 - val_loss: 0.7915 - val_accuracy: 0.7329\n",
      "Epoch 16/20\n",
      "99/99 [==============================] - 8s 83ms/step - loss: 0.5308 - accuracy: 0.8121 - val_loss: 0.7779 - val_accuracy: 0.7350\n",
      "Epoch 17/20\n",
      "99/99 [==============================] - 9s 87ms/step - loss: 0.5152 - accuracy: 0.8182 - val_loss: 0.7689 - val_accuracy: 0.7286\n",
      "Epoch 18/20\n",
      "99/99 [==============================] - 9s 90ms/step - loss: 0.4976 - accuracy: 0.8214 - val_loss: 0.8264 - val_accuracy: 0.7272\n",
      "Epoch 19/20\n",
      "99/99 [==============================] - 8s 79ms/step - loss: 0.4805 - accuracy: 0.8316 - val_loss: 0.8575 - val_accuracy: 0.7222\n",
      "Epoch 20/20\n",
      "99/99 [==============================] - 8s 81ms/step - loss: 0.4563 - accuracy: 0.8381 - val_loss: 0.8240 - val_accuracy: 0.7301\n"
     ]
    }
   ],
   "source": [
    "history = model.fit(X_train,\n",
    "                    y_train,\n",
    "                    batch_size = 128,\n",
    "                    epochs = 20,\n",
    "                    validation_split=0.1)"
   ]
  },
  {
   "cell_type": "code",
   "execution_count": 65,
   "metadata": {},
   "outputs": [
    {
     "data": {
      "text/plain": [
       "<matplotlib.legend.Legend at 0x2945144b510>"
      ]
     },
     "execution_count": 65,
     "metadata": {},
     "output_type": "execute_result"
    },
    {
     "data": {
      "image/png": "[encoded data removed]",
      "text/plain": [
       "<Figure size 640x480 with 1 Axes>"
      ]
     },
     "metadata": {},
     "output_type": "display_data"
    }
   ],
   "source": [
    "df_hist = pd.DataFrame(history.history, index=np.arange(1,21))\n",
    "plt.plot(df_hist['val_loss'], label=\"val loss\")\n",
    "plt.plot(df_hist['loss'], label=\"train loss\")\n",
    "plt.title(\"Training CNN\")\n",
    "plt.xlabel(\"Training CNN\")\n",
    "plt.ylabel(\"Training CNN\")\n",
    "plt.xticks(np.arange(1,21))\n",
    "plt.legend()"
   ]
  },
  {
   "cell_type": "code",
   "execution_count": null,
   "metadata": {},
   "outputs": [
    {
     "name": "stdout",
     "output_type": "stream",
     "text": [
      "94/94 [==============================] - 1s 7ms/step - loss: 0.8807 - accuracy: 0.7057\n"
     ]
    }
   ],
   "source": [
    "results = model.evaluate(X_test, y_test)"
   ]
  },
  {
   "cell_type": "code",
   "execution_count": 70,
   "metadata": {},
   "outputs": [
    {
     "name": "stdout",
     "output_type": "stream",
     "text": [
      "94/94 [==============================] - 1s 6ms/step\n"
     ]
    }
   ],
   "source": [
    "y_pred = model.predict(X_test)"
   ]
  },
  {
   "cell_type": "code",
   "execution_count": 71,
   "metadata": {},
   "outputs": [
    {
     "data": {
      "text/plain": [
       "array([[252,   7,  12,  22,  23,  61],\n",
       "       [ 31, 440,  10,   5,   7,  45],\n",
       "       [ 11,   2, 329,  52,  44,  14],\n",
       "       [ 18,   1, 102, 372,  58,   6],\n",
       "       [ 31,   4,  84,  62, 364,  15],\n",
       "       [ 94,  20,  16,  12,  14, 360]], dtype=int64)"
      ]
     },
     "execution_count": 71,
     "metadata": {},
     "output_type": "execute_result"
    }
   ],
   "source": [
    "confusion_matrix(y_pred.argmax(axis=1), y_test)"
   ]
  },
  {
   "cell_type": "code",
   "execution_count": 72,
   "metadata": {},
   "outputs": [],
   "source": [
    "IMAGE_SIZE = (64,64)"
   ]
  },
  {
   "cell_type": "code",
   "execution_count": 73,
   "metadata": {},
   "outputs": [
    {
     "name": "stdout",
     "output_type": "stream",
     "text": [
      "Recorriendo  buildings\n",
      "Recorriendo  forest\n",
      "Recorriendo  glacier\n",
      "Recorriendo  mountain\n",
      "Recorriendo  sea\n",
      "Recorriendo  street\n",
      "Recorriendo  buildings\n",
      "Recorriendo  forest\n",
      "Recorriendo  glacier\n",
      "Recorriendo  mountain\n",
      "Recorriendo  sea\n",
      "Recorriendo  street\n"
     ]
    }
   ],
   "source": [
    "X_train, y_train = read_data(TRAIN_PATH, IMAGE_SIZE, class_names_label)\n",
    "X_test, y_test = read_data(TEST_PATH, IMAGE_SIZE, class_names_label)"
   ]
  },
  {
   "cell_type": "code",
   "execution_count": 74,
   "metadata": {},
   "outputs": [],
   "source": [
    "X_train, y_train = shuffle(X_train, y_train, random_state=42)\n",
    "X_test, y_test = shuffle(X_test, y_test, random_state=42)"
   ]
  },
  {
   "cell_type": "code",
   "execution_count": 75,
   "metadata": {},
   "outputs": [],
   "source": [
    "X_train = X_train/255\n",
    "X_test = X_test/255"
   ]
  },
  {
   "cell_type": "code",
   "execution_count": 78,
   "metadata": {},
   "outputs": [],
   "source": [
    "model = keras.Sequential([\n",
    "    keras.layers.Conv2D(64, (3,3), input_shape=(64,64,3)),\n",
    "    keras.layers.MaxPooling2D(2,2),\n",
    "    keras.layers.Conv2D(32, (3,3)),\n",
    "    keras.layers.MaxPooling2D(2,2),\n",
    "    keras.layers.Conv2D(32, (3,3)),\n",
    "    keras.layers.MaxPooling2D(2,2),\n",
    "    keras.layers.Flatten(),\n",
    "    keras.layers.Dense(64),\n",
    "    keras.layers.Dropout(0.2),\n",
    "    keras.layers.Dense(32),\n",
    "    keras.layers.Dropout(0.2),\n",
    "    keras.layers.Dense(6, activation=\"softmax\")\n",
    "])"
   ]
  },
  {
   "cell_type": "code",
   "execution_count": 79,
   "metadata": {},
   "outputs": [],
   "source": [
    "model.compile(optimizer=\"adam\",\n",
    "              loss= \"sparse_categorical_crossentropy\",\n",
    "              metrics=['accuracy'])"
   ]
  },
  {
   "cell_type": "code",
   "execution_count": 80,
   "metadata": {},
   "outputs": [],
   "source": [
    "early_stopping = keras.callbacks.EarlyStopping(patience=5)"
   ]
  },
  {
   "cell_type": "code",
   "execution_count": 81,
   "metadata": {},
   "outputs": [
    {
     "name": "stdout",
     "output_type": "stream",
     "text": [
      "Epoch 1/20\n",
      "99/99 [==============================] - 32s 303ms/step - loss: 1.1975 - accuracy: 0.5343 - val_loss: 0.9474 - val_accuracy: 0.6396\n",
      "Epoch 2/20\n",
      "99/99 [==============================] - 27s 276ms/step - loss: 0.9626 - accuracy: 0.6393 - val_loss: 0.8480 - val_accuracy: 0.6937\n",
      "Epoch 3/20\n",
      "99/99 [==============================] - 27s 269ms/step - loss: 0.8855 - accuracy: 0.6650 - val_loss: 0.8769 - val_accuracy: 0.6574\n",
      "Epoch 4/20\n",
      "99/99 [==============================] - 27s 272ms/step - loss: 0.8186 - accuracy: 0.7017 - val_loss: 0.8298 - val_accuracy: 0.6823\n",
      "Epoch 5/20\n",
      "99/99 [==============================] - 27s 273ms/step - loss: 0.7738 - accuracy: 0.7189 - val_loss: 0.7635 - val_accuracy: 0.7137\n",
      "Epoch 6/20\n",
      "99/99 [==============================] - 27s 275ms/step - loss: 0.7136 - accuracy: 0.7455 - val_loss: 0.7379 - val_accuracy: 0.7393\n",
      "Epoch 7/20\n",
      "99/99 [==============================] - 26s 262ms/step - loss: 0.6795 - accuracy: 0.7553 - val_loss: 0.6869 - val_accuracy: 0.7486\n",
      "Epoch 8/20\n",
      "99/99 [==============================] - 27s 274ms/step - loss: 0.6383 - accuracy: 0.7724 - val_loss: 0.6781 - val_accuracy: 0.7557\n",
      "Epoch 9/20\n",
      "99/99 [==============================] - 33s 331ms/step - loss: 0.6146 - accuracy: 0.7799 - val_loss: 0.7312 - val_accuracy: 0.7393\n",
      "Epoch 10/20\n",
      "99/99 [==============================] - 29s 292ms/step - loss: 0.5701 - accuracy: 0.7943 - val_loss: 0.7209 - val_accuracy: 0.7493\n",
      "Epoch 11/20\n",
      "99/99 [==============================] - 31s 316ms/step - loss: 0.5451 - accuracy: 0.8021 - val_loss: 0.7315 - val_accuracy: 0.7585\n",
      "Epoch 12/20\n",
      "99/99 [==============================] - 34s 340ms/step - loss: 0.5247 - accuracy: 0.8090 - val_loss: 0.7428 - val_accuracy: 0.7464\n",
      "Epoch 13/20\n",
      "99/99 [==============================] - 27s 270ms/step - loss: 0.4893 - accuracy: 0.8199 - val_loss: 0.7170 - val_accuracy: 0.7735\n"
     ]
    }
   ],
   "source": [
    "history = model.fit(X_train,\n",
    "                    y_train,\n",
    "                    batch_size = 128,\n",
    "                    epochs = 20,\n",
    "                    validation_split=0.1,\n",
    "                    callbacks=[early_stopping])"
   ]
  },
  {
   "cell_type": "code",
   "execution_count": 83,
   "metadata": {},
   "outputs": [
    {
     "data": {
      "text/plain": [
       "<matplotlib.legend.Legend at 0x29401484250>"
      ]
     },
     "execution_count": 83,
     "metadata": {},
     "output_type": "execute_result"
    },
    {
     "data": {
      "image/png": "[encoded data removed]",
      "text/plain": [
       "<Figure size 640x480 with 1 Axes>"
      ]
     },
     "metadata": {},
     "output_type": "display_data"
    }
   ],
   "source": [
    "df_hist = pd.DataFrame(history.history, index=np.arange(1,14))\n",
    "plt.plot(df_hist['val_loss'], label=\"val loss\")\n",
    "plt.plot(df_hist['loss'], label=\"train loss\")\n",
    "plt.title(\"Training CNN\")\n",
    "plt.xlabel(\"Training CNN\")\n",
    "plt.ylabel(\"Training CNN\")\n",
    "plt.xticks(np.arange(1,14))\n",
    "plt.legend()"
   ]
  },
  {
   "cell_type": "code",
   "execution_count": 84,
   "metadata": {},
   "outputs": [
    {
     "name": "stdout",
     "output_type": "stream",
     "text": [
      "94/94 [==============================] - 2s 24ms/step - loss: 0.7781 - accuracy: 0.7283\n"
     ]
    }
   ],
   "source": [
    "results = model.evaluate(X_test, y_test)"
   ]
  },
  {
   "cell_type": "code",
   "execution_count": 85,
   "metadata": {},
   "outputs": [
    {
     "name": "stdout",
     "output_type": "stream",
     "text": [
      "94/94 [==============================] - 2s 20ms/step\n"
     ]
    },
    {
     "data": {
      "text/plain": [
       "array([[0.01, 0.  , 0.08, 0.9 , 0.01, 0.  ],\n",
       "       [0.02, 0.  , 0.72, 0.  , 0.02, 0.24],\n",
       "       [0.  , 0.  , 0.03, 0.45, 0.52, 0.  ],\n",
       "       ...,\n",
       "       [0.01, 0.  , 0.12, 0.35, 0.53, 0.  ],\n",
       "       [0.01, 0.  , 0.07, 0.31, 0.61, 0.  ],\n",
       "       [0.03, 0.95, 0.  , 0.  , 0.  , 0.02]], dtype=float32)"
      ]
     },
     "execution_count": 85,
     "metadata": {},
     "output_type": "execute_result"
    }
   ],
   "source": [
    "y_pred = model.predict(X_test)\n",
    "y_pred.round(2)"
   ]
  },
  {
   "cell_type": "code",
   "execution_count": 87,
   "metadata": {},
   "outputs": [
    {
     "name": "stdout",
     "output_type": "stream",
     "text": [
      "mountain\n",
      "[1.1785825e-03 3.5251534e-05 2.5359413e-02 4.5047316e-01 5.2239698e-01\n",
      " 5.5659981e-04]\n"
     ]
    },
    {
     "data": {
      "text/plain": [
       "<matplotlib.image.AxesImage at 0x29407b368d0>"
      ]
     },
     "execution_count": 87,
     "metadata": {},
     "output_type": "execute_result"
    },
    {
     "data": {
      "image/png": "[encoded data removed]",
      "text/plain": [
       "<Figure size 640x480 with 1 Axes>"
      ]
     },
     "metadata": {},
     "output_type": "display_data"
    }
   ],
   "source": [
    "print(class_names[y_test[2]])\n",
    "print(y_pred[2])\n",
    "plt.imshow(X_test[2])"
   ]
  },
  {
   "cell_type": "code",
   "execution_count": 89,
   "metadata": {},
   "outputs": [
    {
     "name": "stdout",
     "output_type": "stream",
     "text": [
      "[3 2 4 ... 4 4 1]\n",
      "['mountain', 'glacier', 'sea', 'street', 'street', 'glacier', 'glacier', 'sea', 'buildings', 'street', 'sea', 'street', 'forest', 'mountain', 'sea', 'forest', 'glacier', 'forest', 'street', 'buildings', 'buildings', 'buildings', 'glacier', 'glacier', 'glacier', 'sea', 'street', 'glacier', 'buildings', 'glacier', 'glacier', 'mountain', 'forest', 'glacier', 'buildings', 'forest', 'mountain', 'mountain', 'street', 'glacier', 'buildings', 'street', 'buildings', 'forest', 'mountain', 'mountain', 'sea', 'buildings', 'street', 'glacier', 'mountain', 'forest', 'buildings', 'glacier', 'buildings', 'street', 'glacier', 'forest', 'buildings', 'mountain', 'forest', 'forest', 'forest', 'buildings', 'street', 'mountain', 'glacier', 'mountain', 'sea', 'forest', 'mountain', 'street', 'buildings', 'mountain', 'glacier', 'forest', 'sea', 'street', 'sea', 'mountain', 'mountain', 'mountain', 'forest', 'glacier', 'buildings', 'buildings', 'street', 'glacier', 'mountain', 'buildings', 'buildings', 'mountain', 'sea', 'glacier', 'sea', 'buildings', 'buildings', 'sea', 'buildings', 'mountain', 'sea', 'buildings', 'forest', 'mountain', 'mountain', 'street', 'glacier', 'buildings', 'buildings', 'mountain', 'street', 'forest', 'buildings', 'buildings', 'forest', 'sea', 'buildings', 'buildings', 'glacier', 'mountain', 'street', 'mountain', 'forest', 'mountain', 'glacier', 'sea', 'sea', 'forest', 'forest', 'glacier', 'glacier', 'glacier', 'mountain', 'mountain', 'glacier', 'buildings', 'sea', 'mountain', 'street', 'sea', 'street', 'glacier', 'glacier', 'glacier', 'sea', 'forest', 'sea', 'mountain', 'glacier', 'sea', 'mountain', 'street', 'street', 'sea', 'buildings', 'mountain', 'street', 'buildings', 'mountain', 'street', 'sea', 'mountain', 'buildings', 'forest', 'mountain', 'glacier', 'buildings', 'glacier', 'mountain', 'forest', 'street', 'street', 'mountain', 'forest', 'street', 'sea', 'sea', 'mountain', 'forest', 'mountain', 'street', 'street', 'mountain', 'street', 'sea', 'buildings', 'glacier', 'sea', 'glacier', 'glacier', 'forest', 'sea', 'mountain', 'street', 'glacier', 'buildings', 'buildings', 'street', 'forest', 'buildings', 'glacier', 'mountain', 'buildings', 'street', 'mountain', 'glacier', 'sea', 'sea', 'forest', 'mountain', 'sea', 'mountain', 'buildings', 'sea', 'forest', 'buildings', 'buildings', 'buildings', 'mountain', 'sea', 'glacier', 'mountain', 'forest', 'buildings', 'mountain', 'forest', 'buildings', 'sea', 'street', 'street', 'glacier', 'mountain', 'buildings', 'buildings', 'glacier', 'mountain', 'forest', 'mountain', 'street', 'forest', 'sea', 'forest', 'sea', 'mountain', 'buildings', 'forest', 'glacier', 'forest', 'forest', 'street', 'glacier', 'glacier', 'buildings', 'glacier', 'street', 'glacier', 'mountain', 'street', 'sea', 'sea', 'glacier', 'sea', 'buildings', 'glacier', 'forest', 'sea', 'street', 'street', 'street', 'street', 'glacier', 'glacier', 'sea', 'forest', 'glacier', 'glacier', 'street', 'mountain', 'glacier', 'buildings', 'glacier', 'street', 'forest', 'forest', 'mountain', 'sea', 'sea', 'street', 'buildings', 'forest', 'buildings', 'street', 'glacier', 'glacier', 'buildings', 'mountain', 'buildings', 'street', 'street', 'sea', 'buildings', 'glacier', 'buildings', 'glacier', 'street', 'forest', 'glacier', 'mountain', 'sea', 'glacier', 'buildings', 'forest', 'mountain', 'buildings', 'mountain', 'sea', 'forest', 'street', 'sea', 'mountain', 'glacier', 'forest', 'sea', 'sea', 'glacier', 'mountain', 'forest', 'sea', 'street', 'sea', 'forest', 'glacier', 'street', 'glacier', 'glacier', 'street', 'sea', 'glacier', 'sea', 'glacier', 'street', 'buildings', 'glacier', 'street', 'forest', 'mountain', 'street', 'street', 'mountain', 'buildings', 'glacier', 'sea', 'buildings', 'glacier', 'street', 'buildings', 'street', 'forest', 'forest', 'mountain', 'street', 'sea', 'sea', 'buildings', 'forest', 'forest', 'glacier', 'glacier', 'mountain', 'sea', 'buildings', 'forest', 'mountain', 'glacier', 'buildings', 'mountain', 'sea', 'mountain', 'buildings', 'glacier', 'street', 'sea', 'buildings', 'forest', 'buildings', 'sea', 'glacier', 'forest', 'street', 'glacier', 'glacier', 'mountain', 'mountain', 'street', 'glacier', 'mountain', 'forest', 'forest', 'glacier', 'street', 'forest', 'street', 'glacier', 'street', 'street', 'mountain', 'buildings', 'street', 'forest', 'sea', 'mountain', 'sea', 'glacier', 'forest', 'buildings', 'glacier', 'glacier', 'mountain', 'sea', 'glacier', 'buildings', 'sea', 'glacier', 'glacier', 'forest', 'glacier', 'forest', 'forest', 'forest', 'forest', 'mountain', 'street', 'street', 'glacier', 'mountain', 'glacier', 'glacier', 'mountain', 'sea', 'glacier', 'buildings', 'mountain', 'mountain', 'mountain', 'sea', 'buildings', 'sea', 'street', 'buildings', 'street', 'street', 'glacier', 'street', 'glacier', 'mountain', 'buildings', 'glacier', 'buildings', 'street', 'buildings', 'glacier', 'forest', 'mountain', 'mountain', 'glacier', 'glacier', 'forest', 'forest', 'buildings', 'mountain', 'street', 'glacier', 'glacier', 'buildings', 'street', 'street', 'sea', 'street', 'glacier', 'glacier', 'glacier', 'buildings', 'mountain', 'sea', 'glacier', 'sea', 'buildings', 'sea', 'street', 'street', 'forest', 'mountain', 'street', 'buildings', 'mountain', 'forest', 'forest', 'sea', 'buildings', 'street', 'mountain', 'forest', 'glacier', 'street', 'buildings', 'sea', 'sea', 'glacier', 'buildings', 'glacier', 'street', 'glacier', 'forest', 'glacier', 'forest', 'glacier', 'sea', 'forest', 'glacier', 'sea', 'buildings', 'sea', 'street', 'forest', 'glacier', 'mountain', 'forest', 'sea', 'mountain', 'street', 'sea', 'forest', 'glacier', 'buildings', 'buildings', 'sea', 'mountain', 'street', 'glacier', 'glacier', 'glacier', 'mountain', 'buildings', 'mountain', 'forest', 'glacier', 'buildings', 'sea', 'street', 'glacier', 'sea', 'sea', 'forest', 'mountain', 'glacier', 'sea', 'forest', 'buildings', 'buildings', 'forest', 'street', 'sea', 'buildings', 'forest', 'forest', 'mountain', 'sea', 'forest', 'mountain', 'sea', 'forest', 'glacier', 'street', 'glacier', 'sea', 'buildings', 'forest', 'street', 'mountain', 'buildings', 'buildings', 'buildings', 'street', 'street', 'buildings', 'mountain', 'buildings', 'mountain', 'forest', 'mountain', 'street', 'buildings', 'street', 'glacier', 'glacier', 'buildings', 'sea', 'forest', 'street', 'glacier', 'forest', 'forest', 'buildings', 'mountain', 'sea', 'mountain', 'forest', 'mountain', 'street', 'sea', 'buildings', 'forest', 'street', 'glacier', 'mountain', 'buildings', 'mountain', 'glacier', 'buildings', 'buildings', 'buildings', 'buildings', 'sea', 'mountain', 'street', 'buildings', 'forest', 'mountain', 'mountain', 'forest', 'buildings', 'street', 'forest', 'sea', 'buildings', 'forest', 'street', 'forest', 'street', 'glacier', 'mountain', 'glacier', 'glacier', 'street', 'glacier', 'glacier', 'street', 'buildings', 'forest', 'glacier', 'sea', 'street', 'street', 'street', 'buildings', 'sea', 'glacier', 'glacier', 'glacier', 'street', 'forest', 'glacier', 'sea', 'forest', 'forest', 'mountain', 'street', 'forest', 'glacier', 'mountain', 'sea', 'mountain', 'forest', 'sea', 'forest', 'street', 'glacier', 'forest', 'sea', 'glacier', 'glacier', 'sea', 'street', 'glacier', 'forest', 'sea', 'glacier', 'mountain', 'mountain', 'mountain', 'sea', 'forest', 'glacier', 'sea', 'buildings', 'street', 'sea', 'sea', 'sea', 'glacier', 'buildings', 'mountain', 'buildings', 'sea', 'buildings', 'sea', 'buildings', 'buildings', 'buildings', 'street', 'mountain', 'glacier', 'forest', 'mountain', 'sea', 'mountain', 'mountain', 'mountain', 'forest', 'glacier', 'mountain', 'mountain', 'sea', 'forest', 'glacier', 'glacier', 'street', 'buildings', 'sea', 'forest', 'street', 'buildings', 'buildings', 'buildings', 'glacier', 'street', 'buildings', 'street', 'glacier', 'street', 'forest', 'glacier', 'buildings', 'mountain', 'street', 'street', 'mountain', 'street', 'sea', 'street', 'glacier', 'buildings', 'glacier', 'glacier', 'forest', 'street', 'forest', 'forest', 'sea', 'forest', 'glacier', 'street', 'forest', 'sea', 'street', 'forest', 'glacier', 'street', 'buildings', 'glacier', 'mountain', 'forest', 'sea', 'glacier', 'buildings', 'forest', 'glacier', 'buildings', 'forest', 'buildings', 'buildings', 'mountain', 'sea', 'forest', 'glacier', 'forest', 'sea', 'sea', 'glacier', 'glacier', 'glacier', 'glacier', 'forest', 'glacier', 'mountain', 'mountain', 'street', 'glacier', 'street', 'street', 'forest', 'sea', 'mountain', 'buildings', 'glacier', 'sea', 'mountain', 'buildings', 'glacier', 'buildings', 'forest', 'sea', 'glacier', 'street', 'glacier', 'street', 'sea', 'buildings', 'sea', 'forest', 'sea', 'forest', 'glacier', 'buildings', 'glacier', 'mountain', 'sea', 'glacier', 'sea', 'mountain', 'street', 'glacier', 'forest', 'glacier', 'forest', 'buildings', 'buildings', 'sea', 'buildings', 'street', 'sea', 'street', 'street', 'sea', 'glacier', 'street', 'street', 'glacier', 'mountain', 'glacier', 'glacier', 'mountain', 'sea', 'glacier', 'glacier', 'glacier', 'sea', 'mountain', 'glacier', 'sea', 'street', 'forest', 'forest', 'glacier', 'forest', 'sea', 'forest', 'sea', 'street', 'street', 'forest', 'forest', 'buildings', 'sea', 'forest', 'forest', 'mountain', 'mountain', 'mountain', 'forest', 'buildings', 'mountain', 'glacier', 'mountain', 'forest', 'street', 'mountain', 'street', 'forest', 'mountain', 'sea', 'buildings', 'glacier', 'forest', 'glacier', 'sea', 'forest', 'glacier', 'buildings', 'buildings', 'forest', 'forest', 'street', 'buildings', 'mountain', 'glacier', 'forest', 'glacier', 'mountain', 'forest', 'glacier', 'forest', 'glacier', 'buildings', 'forest', 'sea', 'sea', 'street', 'glacier', 'street', 'glacier', 'buildings', 'glacier', 'buildings', 'sea', 'glacier', 'sea', 'mountain', 'glacier', 'sea', 'buildings', 'sea', 'sea', 'mountain', 'glacier', 'mountain', 'mountain', 'glacier', 'mountain', 'sea', 'street', 'buildings', 'glacier', 'glacier', 'forest', 'mountain', 'forest', 'street', 'sea', 'glacier', 'mountain', 'mountain', 'buildings', 'forest', 'sea', 'forest', 'buildings', 'forest', 'forest', 'buildings', 'glacier', 'glacier', 'forest', 'forest', 'street', 'glacier', 'sea', 'forest', 'sea', 'street', 'street', 'mountain', 'forest', 'sea', 'street', 'sea', 'mountain', 'sea', 'sea', 'forest', 'forest', 'street', 'sea', 'mountain', 'glacier', 'sea', 'sea', 'forest', 'forest', 'glacier', 'sea', 'buildings', 'mountain', 'glacier', 'glacier', 'forest', 'street', 'glacier', 'glacier', 'glacier', 'street', 'forest', 'mountain', 'buildings', 'buildings', 'sea', 'mountain', 'forest', 'glacier', 'buildings', 'glacier', 'sea', 'buildings', 'glacier', 'street', 'glacier', 'forest', 'glacier', 'buildings', 'mountain', 'glacier', 'glacier', 'sea', 'sea', 'street', 'buildings', 'glacier', 'glacier', 'forest', 'glacier', 'street', 'sea', 'glacier', 'buildings', 'mountain', 'mountain', 'forest', 'sea', 'glacier', 'street', 'sea', 'sea', 'glacier', 'forest', 'buildings', 'street', 'mountain', 'buildings', 'mountain', 'glacier', 'street', 'mountain', 'mountain', 'glacier', 'sea', 'sea', 'sea', 'sea', 'buildings', 'glacier', 'sea', 'glacier', 'glacier', 'glacier', 'sea', 'mountain', 'sea', 'street', 'street', 'mountain', 'buildings', 'sea', 'sea', 'glacier', 'buildings', 'mountain', 'glacier', 'forest', 'sea', 'street', 'street', 'mountain', 'street', 'sea', 'forest', 'mountain', 'street', 'street', 'glacier', 'glacier', 'sea', 'forest', 'mountain', 'forest', 'street', 'glacier', 'glacier', 'forest', 'sea', 'glacier', 'sea', 'sea', 'sea', 'buildings', 'street', 'sea', 'street', 'street', 'glacier', 'mountain', 'buildings', 'buildings', 'glacier', 'glacier', 'glacier', 'street', 'glacier', 'street', 'street', 'glacier', 'mountain', 'forest', 'street', 'street', 'forest', 'mountain', 'buildings', 'sea', 'buildings', 'mountain', 'mountain', 'street', 'sea', 'forest', 'mountain', 'mountain', 'mountain', 'buildings', 'forest', 'sea', 'glacier', 'mountain', 'street', 'glacier', 'forest', 'mountain', 'buildings', 'glacier', 'street', 'mountain', 'forest', 'sea', 'forest', 'buildings', 'mountain', 'forest', 'forest', 'sea', 'street', 'buildings', 'buildings', 'mountain', 'mountain', 'glacier', 'glacier', 'sea', 'glacier', 'sea', 'sea', 'street', 'buildings', 'sea', 'glacier', 'sea', 'forest', 'sea', 'mountain', 'street', 'buildings', 'street', 'glacier', 'forest', 'forest', 'forest', 'mountain', 'forest', 'street', 'forest', 'glacier', 'buildings', 'sea', 'street', 'forest', 'mountain', 'glacier', 'street', 'street', 'forest', 'buildings', 'buildings', 'forest', 'street', 'glacier', 'forest', 'mountain', 'sea', 'glacier', 'glacier', 'buildings', 'buildings', 'forest', 'forest', 'street', 'forest', 'sea', 'sea', 'street', 'buildings', 'street', 'glacier', 'sea', 'mountain', 'buildings', 'sea', 'glacier', 'mountain', 'street', 'forest', 'street', 'glacier', 'street', 'buildings', 'mountain', 'sea', 'buildings', 'mountain', 'mountain', 'buildings', 'buildings', 'buildings', 'sea', 'street', 'sea', 'street', 'street', 'glacier', 'buildings', 'glacier', 'mountain', 'sea', 'street', 'street', 'mountain', 'street', 'forest', 'glacier', 'mountain', 'forest', 'glacier', 'forest', 'mountain', 'glacier', 'sea', 'buildings', 'sea', 'sea', 'forest', 'glacier', 'sea', 'sea', 'street', 'street', 'buildings', 'buildings', 'sea', 'glacier', 'buildings', 'forest', 'sea', 'mountain', 'forest', 'glacier', 'sea', 'street', 'street', 'sea', 'glacier', 'glacier', 'sea', 'forest', 'street', 'forest', 'glacier', 'forest', 'street', 'sea', 'street', 'buildings', 'glacier', 'buildings', 'glacier', 'forest', 'forest', 'street', 'buildings', 'glacier', 'buildings', 'forest', 'mountain', 'buildings', 'forest', 'sea', 'glacier', 'glacier', 'sea', 'mountain', 'sea', 'buildings', 'buildings', 'mountain', 'buildings', 'glacier', 'mountain', 'buildings', 'street', 'mountain', 'glacier', 'buildings', 'forest', 'glacier', 'buildings', 'sea', 'forest', 'buildings', 'mountain', 'sea', 'buildings', 'street', 'sea', 'mountain', 'street', 'forest', 'sea', 'buildings', 'street', 'glacier', 'forest', 'mountain', 'forest', 'buildings', 'buildings', 'glacier', 'street', 'street', 'street', 'street', 'forest', 'street', 'glacier', 'mountain', 'buildings', 'mountain', 'mountain', 'street', 'glacier', 'forest', 'buildings', 'glacier', 'mountain', 'sea', 'buildings', 'mountain', 'glacier', 'glacier', 'forest', 'glacier', 'street', 'buildings', 'glacier', 'mountain', 'mountain', 'mountain', 'forest', 'glacier', 'buildings', 'street', 'forest', 'sea', 'street', 'glacier', 'street', 'forest', 'sea', 'forest', 'forest', 'glacier', 'glacier', 'mountain', 'sea', 'street', 'street', 'mountain', 'street', 'glacier', 'buildings', 'forest', 'glacier', 'glacier', 'buildings', 'glacier', 'sea', 'buildings', 'forest', 'mountain', 'sea', 'street', 'glacier', 'street', 'mountain', 'mountain', 'buildings', 'street', 'mountain', 'street', 'glacier', 'forest', 'mountain', 'sea', 'street', 'forest', 'street', 'glacier', 'sea', 'street', 'sea', 'sea', 'glacier', 'mountain', 'glacier', 'mountain', 'sea', 'forest', 'street', 'buildings', 'mountain', 'sea', 'sea', 'glacier', 'glacier', 'mountain', 'mountain', 'street', 'street', 'glacier', 'sea', 'forest', 'glacier', 'glacier', 'buildings', 'glacier', 'buildings', 'glacier', 'street', 'glacier', 'glacier', 'mountain', 'glacier', 'glacier', 'buildings', 'street', 'buildings', 'buildings', 'forest', 'mountain', 'street', 'sea', 'forest', 'street', 'mountain', 'glacier', 'glacier', 'forest', 'mountain', 'glacier', 'forest', 'mountain', 'forest', 'buildings', 'sea', 'mountain', 'street', 'sea', 'forest', 'sea', 'street', 'glacier', 'sea', 'sea', 'glacier', 'sea', 'street', 'buildings', 'forest', 'forest', 'mountain', 'street', 'sea', 'sea', 'sea', 'sea', 'sea', 'mountain', 'sea', 'mountain', 'glacier', 'street', 'glacier', 'street', 'glacier', 'glacier', 'mountain', 'glacier', 'sea', 'mountain', 'mountain', 'sea', 'glacier', 'sea', 'glacier', 'sea', 'glacier', 'glacier', 'street', 'buildings', 'street', 'forest', 'street', 'forest', 'sea', 'buildings', 'glacier', 'buildings', 'sea', 'glacier', 'glacier', 'street', 'forest', 'street', 'buildings', 'street', 'street', 'mountain', 'buildings', 'glacier', 'sea', 'glacier', 'forest', 'forest', 'street', 'buildings', 'street', 'forest', 'street', 'street', 'sea', 'glacier', 'street', 'street', 'buildings', 'mountain', 'buildings', 'buildings', 'forest', 'glacier', 'forest', 'buildings', 'street', 'buildings', 'glacier', 'mountain', 'street', 'buildings', 'sea', 'forest', 'glacier', 'street', 'glacier', 'mountain', 'forest', 'street', 'glacier', 'sea', 'buildings', 'street', 'sea', 'glacier', 'forest', 'sea', 'glacier', 'mountain', 'glacier', 'buildings', 'forest', 'glacier', 'glacier', 'glacier', 'sea', 'street', 'forest', 'mountain', 'mountain', 'buildings', 'glacier', 'glacier', 'buildings', 'mountain', 'buildings', 'forest', 'glacier', 'forest', 'forest', 'mountain', 'forest', 'sea', 'buildings', 'street', 'forest', 'buildings', 'sea', 'sea', 'mountain', 'mountain', 'street', 'forest', 'glacier', 'forest', 'mountain', 'street', 'sea', 'buildings', 'mountain', 'street', 'mountain', 'forest', 'sea', 'glacier', 'sea', 'street', 'sea', 'sea', 'glacier', 'sea', 'buildings', 'buildings', 'mountain', 'mountain', 'street', 'street', 'mountain', 'sea', 'mountain', 'street', 'street', 'glacier', 'glacier', 'buildings', 'mountain', 'forest', 'glacier', 'glacier', 'sea', 'buildings', 'buildings', 'mountain', 'mountain', 'street', 'sea', 'glacier', 'mountain', 'sea', 'mountain', 'sea', 'sea', 'street', 'mountain', 'buildings', 'forest', 'buildings', 'mountain', 'sea', 'buildings', 'street', 'forest', 'sea', 'mountain', 'mountain', 'sea', 'street', 'mountain', 'glacier', 'sea', 'sea', 'glacier', 'buildings', 'buildings', 'buildings', 'forest', 'mountain', 'sea', 'mountain', 'street', 'glacier', 'glacier', 'forest', 'forest', 'buildings', 'mountain', 'buildings', 'glacier', 'sea', 'sea', 'buildings', 'street', 'sea', 'sea', 'glacier', 'forest', 'forest', 'mountain', 'mountain', 'sea', 'street', 'mountain', 'street', 'sea', 'forest', 'mountain', 'street', 'glacier', 'glacier', 'glacier', 'forest', 'forest', 'sea', 'sea', 'mountain', 'buildings', 'forest', 'sea', 'glacier', 'street', 'sea', 'mountain', 'mountain', 'forest', 'sea', 'glacier', 'glacier', 'glacier', 'glacier', 'sea', 'mountain', 'street', 'glacier', 'street', 'mountain', 'glacier', 'street', 'sea', 'mountain', 'mountain', 'forest', 'glacier', 'buildings', 'street', 'sea', 'street', 'forest', 'mountain', 'glacier', 'sea', 'glacier', 'glacier', 'buildings', 'forest', 'forest', 'glacier', 'mountain', 'glacier', 'forest', 'street', 'street', 'glacier', 'sea', 'street', 'glacier', 'sea', 'forest', 'glacier', 'glacier', 'street', 'buildings', 'mountain', 'glacier', 'street', 'glacier', 'forest', 'glacier', 'glacier', 'sea', 'buildings', 'sea', 'sea', 'glacier', 'glacier', 'sea', 'forest', 'street', 'sea', 'forest', 'buildings', 'mountain', 'sea', 'forest', 'forest', 'street', 'sea', 'sea', 'mountain', 'glacier', 'mountain', 'buildings', 'street', 'sea', 'street', 'forest', 'buildings', 'buildings', 'mountain', 'forest', 'forest', 'forest', 'forest', 'street', 'buildings', 'glacier', 'forest', 'forest', 'mountain', 'glacier', 'glacier', 'sea', 'glacier', 'street', 'mountain', 'mountain', 'mountain', 'glacier', 'mountain', 'glacier', 'sea', 'forest', 'street', 'sea', 'buildings', 'sea', 'sea', 'buildings', 'glacier', 'mountain', 'sea', 'street', 'forest', 'sea', 'sea', 'glacier', 'glacier', 'sea', 'mountain', 'street', 'street', 'mountain', 'glacier', 'mountain', 'forest', 'street', 'mountain', 'buildings', 'sea', 'glacier', 'sea', 'buildings', 'sea', 'sea', 'mountain', 'buildings', 'street', 'glacier', 'forest', 'street', 'glacier', 'glacier', 'sea', 'forest', 'forest', 'glacier', 'glacier', 'glacier', 'mountain', 'street', 'street', 'buildings', 'glacier', 'sea', 'forest', 'buildings', 'sea', 'street', 'glacier', 'mountain', 'sea', 'buildings', 'glacier', 'glacier', 'street', 'sea', 'buildings', 'forest', 'glacier', 'mountain', 'glacier', 'street', 'street', 'mountain', 'buildings', 'glacier', 'sea', 'glacier', 'street', 'mountain', 'sea', 'sea', 'mountain', 'buildings', 'forest', 'forest', 'buildings', 'sea', 'buildings', 'buildings', 'buildings', 'mountain', 'mountain', 'street', 'glacier', 'buildings', 'street', 'street', 'sea', 'glacier', 'forest', 'street', 'mountain', 'street', 'glacier', 'buildings', 'street', 'buildings', 'sea', 'sea', 'street', 'mountain', 'glacier', 'street', 'sea', 'street', 'mountain', 'mountain', 'glacier', 'mountain', 'street', 'glacier', 'glacier', 'street', 'sea', 'glacier', 'sea', 'buildings', 'forest', 'mountain', 'forest', 'buildings', 'forest', 'mountain', 'glacier', 'glacier', 'forest', 'glacier', 'street', 'buildings', 'glacier', 'street', 'sea', 'sea', 'forest', 'mountain', 'glacier', 'forest', 'mountain', 'sea', 'sea', 'street', 'glacier', 'sea', 'glacier', 'glacier', 'glacier', 'mountain', 'sea', 'sea', 'glacier', 'buildings', 'sea', 'sea', 'street', 'sea', 'glacier', 'sea', 'buildings', 'sea', 'mountain', 'street', 'forest', 'buildings', 'glacier', 'street', 'glacier', 'mountain', 'forest', 'mountain', 'buildings', 'buildings', 'sea', 'buildings', 'street', 'buildings', 'sea', 'buildings', 'forest', 'street', 'glacier', 'sea', 'glacier', 'forest', 'buildings', 'buildings', 'buildings', 'glacier', 'sea', 'mountain', 'glacier', 'mountain', 'mountain', 'forest', 'mountain', 'glacier', 'forest', 'glacier', 'buildings', 'glacier', 'street', 'forest', 'street', 'sea', 'glacier', 'glacier', 'mountain', 'mountain', 'mountain', 'street', 'sea', 'forest', 'sea', 'street', 'glacier', 'street', 'street', 'sea', 'mountain', 'forest', 'glacier', 'buildings', 'sea', 'mountain', 'buildings', 'buildings', 'buildings', 'mountain', 'forest', 'glacier', 'mountain', 'sea', 'sea', 'glacier', 'mountain', 'sea', 'street', 'sea', 'buildings', 'glacier', 'forest', 'sea', 'buildings', 'mountain', 'glacier', 'street', 'mountain', 'buildings', 'street', 'sea', 'buildings', 'glacier', 'sea', 'glacier', 'glacier', 'glacier', 'buildings', 'sea', 'sea', 'forest', 'forest', 'sea', 'buildings', 'mountain', 'mountain', 'mountain', 'buildings', 'forest', 'buildings', 'sea', 'forest', 'buildings', 'street', 'buildings', 'forest', 'sea', 'street', 'glacier', 'sea', 'mountain', 'buildings', 'forest', 'sea', 'sea', 'glacier', 'glacier', 'mountain', 'buildings', 'forest', 'mountain', 'buildings', 'buildings', 'mountain', 'forest', 'glacier', 'glacier', 'glacier', 'buildings', 'mountain', 'buildings', 'sea', 'glacier', 'street', 'mountain', 'mountain', 'buildings', 'street', 'street', 'buildings', 'street', 'mountain', 'mountain', 'mountain', 'glacier', 'forest', 'sea', 'mountain', 'buildings', 'sea', 'glacier', 'sea', 'glacier', 'buildings', 'street', 'sea', 'sea', 'forest', 'buildings', 'glacier', 'glacier', 'sea', 'street', 'sea', 'sea', 'glacier', 'forest', 'mountain', 'street', 'glacier', 'mountain', 'mountain', 'glacier', 'mountain', 'glacier', 'glacier', 'forest', 'mountain', 'sea', 'buildings', 'sea', 'buildings', 'forest', 'forest', 'forest', 'buildings', 'buildings', 'buildings', 'buildings', 'glacier', 'street', 'forest', 'sea', 'glacier', 'sea', 'street', 'buildings', 'mountain', 'mountain', 'glacier', 'sea', 'sea', 'mountain', 'glacier', 'mountain', 'street', 'glacier', 'glacier', 'forest', 'mountain', 'forest', 'sea', 'street', 'forest', 'buildings', 'forest', 'mountain', 'street', 'sea', 'forest', 'forest', 'glacier', 'sea', 'street', 'forest', 'sea', 'buildings', 'glacier', 'sea', 'glacier', 'mountain', 'glacier', 'buildings', 'glacier', 'sea', 'glacier', 'buildings', 'forest', 'glacier', 'sea', 'forest', 'forest', 'mountain', 'sea', 'buildings', 'buildings', 'glacier', 'sea', 'forest', 'mountain', 'sea', 'mountain', 'street', 'sea', 'street', 'sea', 'forest', 'street', 'street', 'mountain', 'forest', 'sea', 'street', 'street', 'glacier', 'buildings', 'forest', 'sea', 'forest', 'forest', 'street', 'glacier', 'mountain', 'sea', 'mountain', 'street', 'street', 'street', 'glacier', 'mountain', 'forest', 'sea', 'street', 'glacier', 'mountain', 'mountain', 'buildings', 'sea', 'glacier', 'mountain', 'mountain', 'glacier', 'mountain', 'forest', 'buildings', 'buildings', 'street', 'sea', 'mountain', 'street', 'forest', 'glacier', 'buildings', 'forest', 'street', 'sea', 'glacier', 'buildings', 'sea', 'buildings', 'mountain', 'forest', 'street', 'street', 'street', 'sea', 'glacier', 'glacier', 'street', 'buildings', 'glacier', 'mountain', 'sea', 'glacier', 'sea', 'sea', 'glacier', 'mountain', 'forest', 'buildings', 'forest', 'forest', 'street', 'glacier', 'glacier', 'sea', 'sea', 'street', 'buildings', 'glacier', 'glacier', 'glacier', 'forest', 'glacier', 'street', 'glacier', 'glacier', 'glacier', 'glacier', 'street', 'glacier', 'mountain', 'glacier', 'sea', 'forest', 'glacier', 'forest', 'sea', 'glacier', 'street', 'sea', 'glacier', 'sea', 'glacier', 'sea', 'forest', 'mountain', 'glacier', 'forest', 'street', 'glacier', 'sea', 'mountain', 'glacier', 'street', 'forest', 'street', 'mountain', 'street', 'forest', 'buildings', 'forest', 'buildings', 'street', 'street', 'forest', 'street', 'street', 'glacier', 'street', 'mountain', 'glacier', 'sea', 'buildings', 'forest', 'forest', 'forest', 'street', 'mountain', 'glacier', 'mountain', 'street', 'street', 'sea', 'mountain', 'glacier', 'mountain', 'sea', 'street', 'mountain', 'glacier', 'glacier', 'glacier', 'forest', 'buildings', 'forest', 'street', 'mountain', 'street', 'glacier', 'mountain', 'buildings', 'glacier', 'glacier', 'glacier', 'mountain', 'glacier', 'forest', 'buildings', 'buildings', 'forest', 'buildings', 'street', 'street', 'buildings', 'street', 'street', 'sea', 'buildings', 'buildings', 'glacier', 'buildings', 'mountain', 'buildings', 'street', 'mountain', 'mountain', 'forest', 'street', 'glacier', 'mountain', 'street', 'street', 'sea', 'street', 'glacier', 'glacier', 'mountain', 'sea', 'mountain', 'forest', 'forest', 'buildings', 'mountain', 'mountain', 'forest', 'forest', 'buildings', 'buildings', 'mountain', 'street', 'buildings', 'glacier', 'forest', 'mountain', 'buildings', 'street', 'forest', 'glacier', 'glacier', 'glacier', 'street', 'street', 'forest', 'mountain', 'sea', 'street', 'mountain', 'forest', 'sea', 'forest', 'forest', 'glacier', 'mountain', 'buildings', 'forest', 'glacier', 'glacier', 'buildings', 'street', 'mountain', 'mountain', 'buildings', 'buildings', 'street', 'glacier', 'sea', 'forest', 'sea', 'glacier', 'street', 'sea', 'glacier', 'street', 'glacier', 'mountain', 'mountain', 'glacier', 'glacier', 'street', 'glacier', 'mountain', 'buildings', 'street', 'forest', 'glacier', 'forest', 'sea', 'forest', 'forest', 'forest', 'sea', 'glacier', 'forest', 'forest', 'sea', 'glacier', 'glacier', 'mountain', 'glacier', 'forest', 'buildings', 'forest', 'street', 'mountain', 'mountain', 'mountain', 'forest', 'street', 'forest', 'street', 'street', 'street', 'forest', 'buildings', 'street', 'buildings', 'glacier', 'street', 'forest', 'mountain', 'glacier', 'glacier', 'mountain', 'glacier', 'sea', 'glacier', 'forest', 'forest', 'sea', 'buildings', 'glacier', 'sea', 'sea', 'forest', 'buildings', 'forest', 'mountain', 'mountain', 'forest', 'glacier', 'glacier', 'street', 'mountain', 'glacier', 'buildings', 'street', 'street', 'buildings', 'glacier', 'buildings', 'street', 'forest', 'sea', 'glacier', 'buildings', 'sea', 'forest', 'mountain', 'street', 'buildings', 'forest', 'mountain', 'street', 'buildings', 'glacier', 'forest', 'street', 'mountain', 'forest', 'street', 'mountain', 'mountain', 'buildings', 'buildings', 'street', 'sea', 'glacier', 'street', 'buildings', 'glacier', 'glacier', 'forest', 'forest', 'sea', 'buildings', 'street', 'street', 'glacier', 'sea', 'street', 'street', 'glacier', 'street', 'mountain', 'glacier', 'buildings', 'buildings', 'forest', 'forest', 'sea', 'street', 'mountain', 'glacier', 'sea', 'street', 'buildings', 'sea', 'sea', 'sea', 'buildings', 'sea', 'sea', 'mountain', 'sea', 'forest', 'glacier', 'buildings', 'forest', 'street', 'glacier', 'glacier', 'glacier', 'street', 'mountain', 'buildings', 'mountain', 'street', 'mountain', 'street', 'mountain', 'mountain', 'glacier', 'forest', 'glacier', 'sea', 'forest', 'mountain', 'street', 'street', 'buildings', 'buildings', 'glacier', 'mountain', 'sea', 'forest', 'forest', 'glacier', 'sea', 'sea', 'buildings', 'glacier', 'sea', 'mountain', 'sea', 'street', 'street', 'sea', 'mountain', 'sea', 'forest', 'street', 'forest', 'sea', 'forest', 'mountain', 'street', 'glacier', 'mountain', 'sea', 'mountain', 'street', 'mountain', 'forest', 'sea', 'street', 'street', 'sea', 'forest', 'mountain', 'glacier', 'street', 'mountain', 'mountain', 'glacier', 'sea', 'glacier', 'forest', 'glacier', 'street', 'sea', 'glacier', 'buildings', 'sea', 'glacier', 'buildings', 'sea', 'buildings', 'forest', 'buildings', 'buildings', 'buildings', 'forest', 'sea', 'glacier', 'mountain', 'mountain', 'street', 'mountain', 'street', 'sea', 'glacier', 'sea', 'mountain', 'forest', 'mountain', 'sea', 'forest', 'street', 'sea', 'forest', 'mountain', 'glacier', 'glacier', 'mountain', 'mountain', 'mountain', 'sea', 'street', 'street', 'sea', 'forest', 'forest', 'glacier', 'glacier', 'forest', 'glacier', 'glacier', 'forest', 'mountain', 'mountain', 'glacier', 'street', 'sea', 'glacier', 'glacier', 'mountain', 'sea', 'glacier', 'sea', 'mountain', 'mountain', 'mountain', 'street', 'buildings', 'sea', 'glacier', 'forest', 'street', 'mountain', 'street', 'street', 'street', 'mountain', 'mountain', 'street', 'buildings', 'glacier', 'forest', 'mountain', 'buildings', 'buildings', 'mountain', 'mountain', 'mountain', 'buildings', 'mountain', 'forest', 'street', 'forest', 'mountain', 'mountain', 'glacier', 'buildings', 'street', 'street', 'forest', 'buildings', 'street', 'buildings', 'glacier', 'buildings', 'mountain', 'buildings', 'glacier', 'mountain', 'sea', 'mountain', 'sea', 'sea', 'forest', 'glacier', 'sea', 'forest', 'forest', 'mountain', 'buildings', 'sea', 'mountain', 'sea', 'glacier', 'street', 'sea', 'buildings', 'mountain', 'sea', 'sea', 'mountain', 'glacier', 'glacier', 'street', 'sea', 'glacier', 'glacier', 'street', 'glacier', 'sea', 'glacier', 'forest', 'buildings', 'sea', 'forest', 'sea', 'forest', 'mountain', 'forest', 'buildings', 'street', 'sea', 'glacier', 'glacier', 'forest', 'forest', 'sea', 'glacier', 'mountain', 'buildings', 'buildings', 'mountain', 'street', 'sea', 'glacier', 'mountain', 'sea', 'street', 'glacier', 'glacier', 'glacier', 'mountain', 'street', 'forest', 'street', 'mountain', 'mountain', 'glacier', 'glacier', 'street', 'forest', 'sea', 'buildings', 'glacier', 'sea', 'forest', 'sea', 'glacier', 'sea', 'forest', 'buildings', 'forest', 'mountain', 'street', 'glacier', 'mountain', 'forest', 'buildings', 'glacier', 'sea', 'glacier', 'street', 'sea', 'buildings', 'glacier', 'forest', 'buildings', 'forest', 'sea', 'buildings', 'forest', 'glacier', 'sea', 'glacier', 'glacier', 'sea', 'street', 'mountain', 'sea', 'forest', 'street', 'buildings', 'street', 'sea', 'buildings', 'buildings', 'glacier', 'forest', 'sea', 'mountain', 'glacier', 'sea', 'sea', 'forest']\n"
     ]
    }
   ],
   "source": [
    "pred_labels = np.argmax(y_pred, axis=1)\n",
    "print(pred_labels)\n",
    "pred_names = [class_names[pred] for pred in pred_labels]\n",
    "print(pred_names)"
   ]
  },
  {
   "cell_type": "code",
   "execution_count": 91,
   "metadata": {},
   "outputs": [
    {
     "data": {
      "text/plain": [
       "<Axes: >"
      ]
     },
     "execution_count": 91,
     "metadata": {},
     "output_type": "execute_result"
    },
    {
     "data": {
      "image/png": "[encoded data removed]",
      "text/plain": [
       "<Figure size 640x480 with 2 Axes>"
      ]
     },
     "metadata": {},
     "output_type": "display_data"
    }
   ],
   "source": [
    "c_mat = confusion_matrix(y_test, pred_labels, normalize='true')\n",
    "sns.heatmap(c_mat, annot=True, xticklabels=class_names, yticklabels=class_names)"
   ]
  },
  {
   "cell_type": "code",
   "execution_count": 92,
   "metadata": {},
   "outputs": [
    {
     "name": "stdout",
     "output_type": "stream",
     "text": [
      "              precision    recall  f1-score   support\n",
      "\n",
      "           0       0.69      0.68      0.69       437\n",
      "           1       0.91      0.89      0.90       474\n",
      "           2       0.64      0.73      0.68       553\n",
      "           3       0.72      0.66      0.69       525\n",
      "           4       0.69      0.69      0.69       510\n",
      "           5       0.75      0.73      0.74       501\n",
      "\n",
      "    accuracy                           0.73      3000\n",
      "   macro avg       0.73      0.73      0.73      3000\n",
      "weighted avg       0.73      0.73      0.73      3000\n",
      "\n"
     ]
    }
   ],
   "source": [
    "from sklearn.metrics import classification_report\n",
    "\n",
    "print(classification_report(y_test, pred_labels))"
   ]
  },
  {
   "cell_type": "code",
   "execution_count": null,
   "metadata": {},
   "outputs": [],
   "source": [
    "# model.predict(X_test[100])"
   ]
  }
 ],
 "metadata": {
  "kernelspec": {
   "display_name": "Python 3",
   "language": "python",
   "name": "python3"
  },
  "language_info": {
   "codemirror_mode": {
    "name": "ipython",
    "version": 3
   },
   "file_extension": ".py",
   "mimetype": "text/x-python",
   "name": "python",
   "nbconvert_exporter": "python",
   "pygments_lexer": "ipython3",
   "version": "3.11.3"
  },
  "orig_nbformat": 4
 },
 "nbformat": 4,
 "nbformat_minor": 2
}
