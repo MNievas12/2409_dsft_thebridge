{
 "cells": [
  {
   "cell_type": "markdown",
   "metadata": {},
   "source": [
    "# Intro OpenAI Api"
   ]
  },
  {
   "cell_type": "code",
   "execution_count": 14,
   "metadata": {},
   "outputs": [],
   "source": [
    "# !pip install openai\n",
    "# !pip install python-dotenv"
   ]
  },
  {
   "cell_type": "code",
   "execution_count": 6,
   "metadata": {},
   "outputs": [],
   "source": [
    "from openai import OpenAI\n",
    "import os\n",
    "from dotenv import load_dotenv"
   ]
  },
  {
   "cell_type": "code",
   "execution_count": 7,
   "metadata": {},
   "outputs": [],
   "source": [
    "load_dotenv()\n",
    "api_key = os.getenv(\"OPENAI_API_KEY\")\n",
    "# if not api_key:\n",
    "#     raise ValueError(\"La API key no está definida en las variables de entorno.\")\n",
    "\n",
    "client = OpenAI(api_key=api_key)\n",
    "# print(f\"La API key es: {api_key}\")"
   ]
  },
  {
   "cell_type": "code",
   "execution_count": null,
   "metadata": {},
   "outputs": [
    {
     "name": "stdout",
     "output_type": "stream",
     "text": [
      "En el vasto reino del aprendizaje automático,  \n",
      "la regularización brilla como un acto lógico,  \n",
      "un guardián de la complejidad desbordada,  \n",
      "protegiendo al modelo de caer en la encrucijada.\n",
      "\n",
      "Con la fuerza de una armadura resistente,  \n",
      "la regularización lucha contra el sobreajuste,  \n",
      "su espada afilada corta los pesos excesivos,  \n",
      "permitiendo al modelo ser más efectivo y decisivo.\n",
      "\n",
      "Como un sabio maestro que guía con destreza,  \n",
      "ajusta los parámetros con gran sutileza,  \n",
      "buscando el equilibrio perfecto entre sesgo y varianza,  \n",
      "logrando así una predicción con mayor bonanza.\n",
      "\n",
      "Esa es la magia de la regularización,  \n",
      "una técnica poderosa, una bendición,  \n",
      "que en el rincón oscuro del overfitting,  \n",
      "enciende la luz del conocimiento brillante y titilante.\n"
     ]
    }
   ],
   "source": [
    "\n",
    "# client = OpenAI(api_key=\"\")\n",
    "\n",
    "completion = client.chat.completions.create(\n",
    "  model=\"gpt-3.5-turbo\",\n",
    "  messages=[\n",
    "    {\"role\": \"system\", \"content\": \"You are the best poetic assistant, skilled in explaining complex programming concepts with creative flair. Write it in spanish.\"},\n",
    "    {\"role\": \"user\", \"content\": \"Compose a poem that explains the concept regularization in Machine learning.\"}\n",
    "  ]\n",
    ")\n",
    "\n",
    "print(completion.choices[0].message.content)"
   ]
  }
 ],
 "metadata": {
  "kernelspec": {
   "display_name": "Python 3",
   "language": "python",
   "name": "python3"
  },
  "language_info": {
   "codemirror_mode": {
    "name": "ipython",
    "version": 3
   },
   "file_extension": ".py",
   "mimetype": "text/x-python",
   "name": "python",
   "nbconvert_exporter": "python",
   "pygments_lexer": "ipython3",
   "version": "3.11.3"
  }
 },
 "nbformat": 4,
 "nbformat_minor": 2
}
