{
 "cells": [
  {
   "attachments": {},
   "cell_type": "markdown",
   "metadata": {},
   "source": [
    "# Extrae los dominios de los correos con una expresión regular"
   ]
  },
  {
   "cell_type": "code",
   "execution_count": 23,
   "metadata": {},
   "outputs": [],
   "source": [
    "import re\n",
    "\n",
    "emails = '''\n",
    "Hola chicos\n",
    "miguelnievas@thebridgeschool.tech\n",
    "miguel.nievas@uc3m.es\n",
    "miguel-12-1993@mi-correo.net\n",
    "miguelniev@s@thebridgeschool.es\n",
    "'''"
   ]
  },
  {
   "attachments": {},
   "cell_type": "markdown",
   "metadata": {},
   "source": [
    "Es decir.. \n",
    "* @thebridgeschool.tech\n",
    "* @uc3m.es\n",
    "* @mi-correo.net\n",
    "* @thebridgeschool.es"
   ]
  },
  {
   "cell_type": "code",
   "execution_count": 8,
   "metadata": {},
   "outputs": [
    {
     "name": "stdout",
     "output_type": "stream",
     "text": [
      "<re.Match object; span=(13, 34), match='@thebridgeschool.tech'>\n",
      "<re.Match object; span=(48, 56), match='@uc3m.es'>\n",
      "<re.Match object; span=(71, 85), match='@mi-correo.net'>\n",
      "<re.Match object; span=(96, 117), match='@s@thebridgeschool.es'>\n"
     ]
    }
   ],
   "source": [
    "pattern = re.compile(\"@.+\")\n",
    "\n",
    "matches = pattern.finditer(emails)\n",
    "\n",
    "for match in matches:\n",
    "    print(match)"
   ]
  },
  {
   "cell_type": "code",
   "execution_count": 19,
   "metadata": {},
   "outputs": [
    {
     "name": "stdout",
     "output_type": "stream",
     "text": [
      "<re.Match object; span=(25, 46), match='@thebridgeschool.tech'>\n",
      "<re.Match object; span=(60, 68), match='@uc3m.es'>\n",
      "<re.Match object; span=(83, 97), match='@mi-correo.net'>\n",
      "<re.Match object; span=(110, 129), match='@thebridgeschool.es'>\n"
     ]
    }
   ],
   "source": [
    "pattern = re.compile(\"@[-\\w]+\\.\\w+\")\n",
    "\n",
    "matches = pattern.finditer(emails)\n",
    "\n",
    "for match in matches:\n",
    "    print(match)"
   ]
  },
  {
   "cell_type": "code",
   "execution_count": 21,
   "metadata": {},
   "outputs": [
    {
     "name": "stdout",
     "output_type": "stream",
     "text": [
      "<re.Match object; span=(13, 46), match='miguelnievas@thebridgeschool.tech'>\n",
      "<re.Match object; span=(47, 68), match='miguel.nievas@uc3m.es'>\n",
      "<re.Match object; span=(69, 97), match='miguel-12-1993@mi-correo.net'>\n",
      "<re.Match object; span=(98, 129), match='miguelniev@s@thebridgeschool.es'>\n"
     ]
    }
   ],
   "source": [
    "pattern = re.compile(\".+@.+\")\n",
    "\n",
    "matches = pattern.finditer(emails)\n",
    "\n",
    "for match in matches:\n",
    "    print(match)"
   ]
  },
  {
   "cell_type": "code",
   "execution_count": 25,
   "metadata": {},
   "outputs": [],
   "source": [
    "emails = '''\n",
    "Hola chic@s.quetal\n",
    "miguelnievas@thebridgeschool.tech\n",
    "miguel.nievas@uc3m.es\n",
    "miguel-12-1993@mi-correo.net\n",
    "miguelniev@s@thebridgeschool.es\n",
    "'''"
   ]
  },
  {
   "cell_type": "code",
   "execution_count": 30,
   "metadata": {},
   "outputs": [],
   "source": [
    "lista_t = ['tech', 'es', 'net']"
   ]
  },
  {
   "cell_type": "code",
   "execution_count": 31,
   "metadata": {},
   "outputs": [
    {
     "name": "stdout",
     "output_type": "stream",
     "text": [
      "<re.Match object; span=(32, 53), match='@thebridgeschool.tech'>\n",
      "<re.Match object; span=(67, 75), match='@uc3m.es'>\n",
      "<re.Match object; span=(90, 104), match='@mi-correo.net'>\n",
      "<re.Match object; span=(117, 136), match='@thebridgeschool.es'>\n"
     ]
    }
   ],
   "source": [
    "pattern = re.compile(f\"@[-\\w]+\\.({lista_t[0]}|{lista_t[1]}|{lista_t[2]})\")\n",
    "\n",
    "matches = pattern.finditer(emails)\n",
    "\n",
    "for match in matches:\n",
    "    print(match)"
   ]
  }
 ],
 "metadata": {
  "kernelspec": {
   "display_name": "Python 3",
   "language": "python",
   "name": "python3"
  },
  "language_info": {
   "codemirror_mode": {
    "name": "ipython",
    "version": 3
   },
   "file_extension": ".py",
   "mimetype": "text/x-python",
   "name": "python",
   "nbconvert_exporter": "python",
   "pygments_lexer": "ipython3",
   "version": "3.11.3"
  },
  "orig_nbformat": 4
 },
 "nbformat": 4,
 "nbformat_minor": 2
}
