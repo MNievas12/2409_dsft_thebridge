{
 "cells": [
  {
   "attachments": {},
   "cell_type": "markdown",
   "metadata": {},
   "source": [
    "## Ejercicio descargas"
   ]
  },
  {
   "attachments": {},
   "cell_type": "markdown",
   "metadata": {},
   "source": [
    "Python es un lenguaje de propósito general, por lo que podemos desarrollar otros programas,\n",
    "aparte de ciencia de datos, que nos permitan montar dashboards, crear APIs o automatizar\n",
    "procesos. En este caso vas a automatizar un proceso, en el que tendrás que desarrollar un\n",
    "script que ordene todos los archivos de una carpeta, dependiendo de la extensión de los\n",
    "mismos.\n",
    "\n",
    "\n",
    "El objetivo es ordenar la típica carpeta de cajón desastre donde se nos acumulan archivos de\n",
    "todos los formatos como: imágenes, words, presentaciones, excels, ejecutables, zips, etc... Y\n",
    "que no vamos a ir viendo archivo a archivo, ordenándolos.... La solución suele ser eliminarlo\n",
    "todo. Vamos a intentar no tener que llegar a eso, ordenando los ficheros automáticamente en\n",
    "carpetas y revisar las que nos interesen. La típica carpeta donde aplicaríamos este programa es\n",
    "la de “Descargas”, donde se suelen acumular muchos archivos temporales.\n",
    "\n",
    "\n",
    "Por tanto, **el programa tiene que guardar los archivos de la carpeta “Descargas” (o cualquier\n",
    "otra donde acumules mucho archivo temporal) en los siguientes directorios dentro de la\n",
    "propia carpeta “Descargas”**:\n",
    "- Imagenes\n",
    "- Documentos\n",
    "- Software\n",
    "- Otros\n",
    "\n",
    "Cada vez que ejecutes el script, automáticamente se ordenarán todos los archivos en sus\n",
    "correspondientes carpetas.\n"
   ]
  },
  {
   "cell_type": "code",
   "execution_count": 43,
   "metadata": {},
   "outputs": [],
   "source": [
    "doc_types = ('.doc', '.docx', '.txt', '.pdf', '.xls', '.ppt', '.xlsx', '.pptx')\n",
    "img_types = ('.jpg', '.jpeg', '.png', '.svg', '.gif')\n",
    "software_types = ('.exe', '.py','.ipynb')"
   ]
  },
  {
   "attachments": {},
   "cell_type": "markdown",
   "metadata": {},
   "source": [
    "### 1. Crea un un programa con el flujo principal y encapsúlalo en funciones."
   ]
  },
  {
   "cell_type": "code",
   "execution_count": 1,
   "metadata": {},
   "outputs": [],
   "source": [
    "import os\n",
    "import shutil"
   ]
  },
  {
   "cell_type": "code",
   "execution_count": 2,
   "metadata": {},
   "outputs": [
    {
     "data": {
      "text/plain": [
       "'d:\\\\Bootcamps_DS\\\\24_09_Bootcamp_DS\\\\2409_dsft_thebridge\\\\2-Data_analysis\\\\3-Sources\\\\Archivos\\\\Practica'"
      ]
     },
     "execution_count": 2,
     "metadata": {},
     "output_type": "execute_result"
    }
   ],
   "source": [
    "os.getcwd()"
   ]
  },
  {
   "cell_type": "code",
   "execution_count": 4,
   "metadata": {},
   "outputs": [
    {
     "data": {
      "text/plain": [
       "['carpeta_prueba', 'Ejercicio_descargas.ipynb']"
      ]
     },
     "execution_count": 4,
     "metadata": {},
     "output_type": "execute_result"
    }
   ],
   "source": [
    "os.listdir()"
   ]
  },
  {
   "cell_type": "code",
   "execution_count": 6,
   "metadata": {},
   "outputs": [
    {
     "data": {
      "text/plain": [
       "'d:\\\\Bootcamps_DS\\\\24_09_Bootcamp_DS\\\\2409_dsft_thebridge\\\\2-Data_analysis\\\\3-Sources\\\\Archivos\\\\Practica\\\\carpeta_prueba'"
      ]
     },
     "execution_count": 6,
     "metadata": {},
     "output_type": "execute_result"
    }
   ],
   "source": [
    "os.chdir(os.getcwd()+\"\\\\carpeta_prueba\")\n",
    "os.getcwd()"
   ]
  },
  {
   "cell_type": "code",
   "execution_count": 8,
   "metadata": {},
   "outputs": [
    {
     "data": {
      "text/plain": [
       "'d:\\\\Bootcamps_DS\\\\24_09_Bootcamp_DS\\\\2409_dsft_thebridge\\\\2-Data_analysis\\\\3-Sources\\\\Archivos\\\\Practica'"
      ]
     },
     "execution_count": 8,
     "metadata": {},
     "output_type": "execute_result"
    }
   ],
   "source": [
    "os.chdir(\"d:\\\\Bootcamps_DS\\\\24_09_Bootcamp_DS\\\\2409_dsft_thebridge\\\\2-Data_analysis\\\\3-Sources\\\\Archivos\\\\Practica\")\n",
    "os.getcwd()\n",
    "         "
   ]
  },
  {
   "cell_type": "code",
   "execution_count": 9,
   "metadata": {},
   "outputs": [],
   "source": [
    "ruta = os.getcwd()+\"\\\\carpeta_prueba\""
   ]
  },
  {
   "cell_type": "code",
   "execution_count": 11,
   "metadata": {},
   "outputs": [
    {
     "data": {
      "text/plain": [
       "['ejercicios.png',\n",
       " 'error.png',\n",
       " 'hola_mundo.py',\n",
       " 'importante',\n",
       " 'Intro_bootcamp_24_09_DS_FT.pdf']"
      ]
     },
     "execution_count": 11,
     "metadata": {},
     "output_type": "execute_result"
    }
   ],
   "source": [
    "os.listdir(ruta)"
   ]
  },
  {
   "cell_type": "code",
   "execution_count": 13,
   "metadata": {},
   "outputs": [
    {
     "name": "stdout",
     "output_type": "stream",
     "text": [
      "ejercicios.png\n",
      "error.png\n",
      "hola_mundo.py\n",
      "importante\n",
      "Intro_bootcamp_24_09_DS_FT.pdf\n"
     ]
    }
   ],
   "source": [
    "for archivo in os.listdir(ruta):\n",
    "    print(archivo)"
   ]
  },
  {
   "cell_type": "code",
   "execution_count": 17,
   "metadata": {},
   "outputs": [
    {
     "data": {
      "text/plain": [
       "'d:\\\\Bootcamps_DS\\\\24_09_Bootcamp_DS\\\\2409_dsft_thebridge\\\\2-Data_analysis\\\\3-Sources\\\\Archivos\\\\Practica'"
      ]
     },
     "execution_count": 17,
     "metadata": {},
     "output_type": "execute_result"
    }
   ],
   "source": [
    "os.getcwd()"
   ]
  },
  {
   "cell_type": "code",
   "execution_count": 19,
   "metadata": {},
   "outputs": [],
   "source": [
    "# os.rmdir(\"Documentos\")"
   ]
  },
  {
   "cell_type": "code",
   "execution_count": 21,
   "metadata": {},
   "outputs": [],
   "source": [
    "nombre_carpeta = \"carpeta_prueba\""
   ]
  },
  {
   "cell_type": "code",
   "execution_count": 35,
   "metadata": {},
   "outputs": [],
   "source": [
    "os.makedirs(\"./\" + nombre_carpeta + \"/Documentos\", exist_ok = True)\n",
    "os.makedirs(\"./\" + nombre_carpeta + \"/Imagenes\", exist_ok = True)\n",
    "os.makedirs(\"./\" + nombre_carpeta + \"/Software\", exist_ok = True)\n",
    "os.makedirs(\"./\" + nombre_carpeta + \"/Otros\", exist_ok = True)"
   ]
  },
  {
   "cell_type": "code",
   "execution_count": 37,
   "metadata": {},
   "outputs": [],
   "source": [
    "categorias = [\"Documentos\", \"Imagenes\", \"Software\", \"Otros\"]\n",
    "for categoria in categorias:\n",
    "    os.makedirs(\"./\" + nombre_carpeta + \"/\" + categoria, exist_ok = True)"
   ]
  },
  {
   "cell_type": "code",
   "execution_count": 38,
   "metadata": {},
   "outputs": [
    {
     "data": {
      "text/plain": [
       "['Documentos',\n",
       " 'ejercicios.png',\n",
       " 'error.png',\n",
       " 'hola_mundo.py',\n",
       " 'Imagenes',\n",
       " 'importante',\n",
       " 'Intro_bootcamp_24_09_DS_FT.pdf',\n",
       " 'Otros',\n",
       " 'Software']"
      ]
     },
     "execution_count": 38,
     "metadata": {},
     "output_type": "execute_result"
    }
   ],
   "source": [
    "os.listdir(ruta)"
   ]
  },
  {
   "cell_type": "code",
   "execution_count": 44,
   "metadata": {},
   "outputs": [
    {
     "name": "stdout",
     "output_type": "stream",
     "text": [
      "Archivo Documentos\n",
      "Carpeta Documentos\n",
      "Archivo ejercicios.png\n",
      "ejercicios.png Moviendo a Imagenes\n",
      "Archivo error.png\n",
      "error.png Moviendo a Imagenes\n",
      "Archivo hola_mundo.py\n",
      "hola_mundo.py Moviendo a Software\n",
      "Archivo Imagenes\n",
      "Carpeta Imagenes\n",
      "Archivo importante\n",
      "importante Moviendo a Otros\n",
      "Archivo Intro_bootcamp_24_09_DS_FT.pdf\n",
      "Intro_bootcamp_24_09_DS_FT.pdf Moviendo a Documentos\n",
      "Archivo Otros\n",
      "Carpeta Otros\n",
      "Archivo Software\n",
      "Carpeta Software\n"
     ]
    }
   ],
   "source": [
    "for archivo in os.listdir(ruta):\n",
    "    ruta_archivo = ruta + \"/\" + archivo\n",
    "    print(\"Archivo\", archivo)\n",
    "    if os.path.isdir(ruta + \"/\" + archivo):\n",
    "        print(\"Carpeta\", archivo)\n",
    "    elif archivo.endswith(doc_types):\n",
    "        print(archivo, \"Moviendo a Documentos\")\n",
    "        shutil.move(ruta_archivo, ruta + \"/Documentos\")\n",
    "    elif archivo.endswith(img_types):\n",
    "        print(archivo, \"Moviendo a Imagenes\")\n",
    "        shutil.move(ruta_archivo, ruta + \"/Imagenes\")\n",
    "    elif archivo.endswith(software_types):\n",
    "        print(archivo, \"Moviendo a Software\")\n",
    "        shutil.move(ruta_archivo, ruta + \"/Software\")\n",
    "    else:\n",
    "        print(archivo, \"Moviendo a Otros\")\n",
    "        shutil.move(ruta_archivo, ruta + \"/Otros\")"
   ]
  },
  {
   "cell_type": "code",
   "execution_count": 48,
   "metadata": {},
   "outputs": [],
   "source": [
    "def ordenar_carpeta(ruta_carpeta, categorias):\n",
    "    for categoria in categorias:\n",
    "        os.makedirs(ruta_carpeta + \"/\" + categoria, exist_ok = True)\n",
    "    for archivo in os.listdir(ruta):\n",
    "        ruta_archivo = ruta_carpeta + \"/\" + archivo\n",
    "        print(\"Archivo\", archivo)\n",
    "        if os.path.isdir(ruta_carpeta + \"/\" + archivo):\n",
    "            print(\"Carpeta\", archivo)\n",
    "        elif archivo.endswith(doc_types):\n",
    "            print(archivo, \"Moviendo a Documentos\")\n",
    "            shutil.move(ruta_archivo, ruta + \"/Documentos\")\n",
    "        elif archivo.endswith(img_types):\n",
    "            print(archivo, \"Moviendo a Imagenes\")\n",
    "            shutil.move(ruta_archivo, ruta + \"/Imagenes\")\n",
    "        elif archivo.endswith(software_types):\n",
    "            print(archivo, \"Moviendo a Software\")\n",
    "            shutil.move(ruta_archivo, ruta + \"/Software\")\n",
    "        else:\n",
    "            print(archivo, \"Moviendo a Otros\")\n",
    "            shutil.move(ruta_archivo, ruta + \"/Otros\")"
   ]
  },
  {
   "cell_type": "code",
   "execution_count": 49,
   "metadata": {},
   "outputs": [
    {
     "name": "stdout",
     "output_type": "stream",
     "text": [
      "Archivo Documentos\n",
      "Carpeta Documentos\n",
      "Archivo ejercicios.png\n",
      "ejercicios.png Moviendo a Imagenes\n",
      "Archivo error.png\n",
      "error.png Moviendo a Imagenes\n",
      "Archivo hola_mundo.py\n",
      "hola_mundo.py Moviendo a Software\n",
      "Archivo Imagenes\n",
      "Carpeta Imagenes\n",
      "Archivo importante\n",
      "importante Moviendo a Otros\n",
      "Archivo Intro_bootcamp_24_09_DS_FT.pdf\n",
      "Intro_bootcamp_24_09_DS_FT.pdf Moviendo a Documentos\n",
      "Archivo Otros\n",
      "Carpeta Otros\n",
      "Archivo Software\n",
      "Carpeta Software\n"
     ]
    }
   ],
   "source": [
    "ordenar_carpeta(os.getcwd()+\"/carpeta_prueba\", [\"Documentos\", \"Imagenes\", \"Software\", \"Otros\"])"
   ]
  },
  {
   "attachments": {},
   "cell_type": "markdown",
   "metadata": {},
   "source": [
    "### 2. Crea una clase Fichero en clase.py y un main.py con el programa principal partiendo de esa clase."
   ]
  },
  {
   "cell_type": "code",
   "execution_count": null,
   "metadata": {},
   "outputs": [],
   "source": []
  }
 ],
 "metadata": {
  "kernelspec": {
   "display_name": "Python 3",
   "language": "python",
   "name": "python3"
  },
  "language_info": {
   "codemirror_mode": {
    "name": "ipython",
    "version": 3
   },
   "file_extension": ".py",
   "mimetype": "text/x-python",
   "name": "python",
   "nbconvert_exporter": "python",
   "pygments_lexer": "ipython3",
   "version": "3.11.3"
  },
  "orig_nbformat": 4
 },
 "nbformat": 4,
 "nbformat_minor": 2
}
